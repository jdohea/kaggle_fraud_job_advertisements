{
 "cells": [
  {
   "cell_type": "code",
   "execution_count": 7,
   "outputs": [],
   "source": [
    "import numpy as np\n",
    "import pandas as pd\n",
    "import inclassfakejobs"
   ],
   "metadata": {
    "collapsed": false,
    "pycharm": {
     "name": "#%%\n"
    }
   }
  },
  {
   "cell_type": "code",
   "execution_count": 8,
   "outputs": [],
   "source": [
    "df = pd.read_csv('../inclassfakejobs/train.csv')\n",
    "i_before = df['Id']"
   ],
   "metadata": {
    "collapsed": false,
    "pycharm": {
     "name": "#%%\n"
    }
   }
  },
  {
   "cell_type": "code",
   "execution_count": 9,
   "outputs": [
    {
     "data": {
      "text/plain": "<Figure size 640x480 with 1 Axes>",
      "image/png": "[encoded data removed]"
     },
     "metadata": {},
     "output_type": "display_data"
    }
   ],
   "source": [
    "import matplotlib.pyplot as plt\n",
    "labels = ['not', 'fraudulent']\n",
    "sizes = df['fraudulent'].value_counts()\n",
    "# Plot\n",
    "plt.pie(sizes, labels=labels,\n",
    "        autopct='%1.1f%%', shadow=True, startangle=140)\n",
    "plt.axis('equal')\n",
    "plt.show()"
   ],
   "metadata": {
    "collapsed": false,
    "pycharm": {
     "name": "#%%\n"
    }
   }
  },
  {
   "cell_type": "code",
   "execution_count": 10,
   "outputs": [
    {
     "data": {
      "text/plain": "0    10234\n1      494\nName: fraudulent, dtype: int64"
     },
     "execution_count": 10,
     "metadata": {},
     "output_type": "execute_result"
    }
   ],
   "source": [
    "sizes"
   ],
   "metadata": {
    "collapsed": false,
    "pycharm": {
     "name": "#%%\n"
    }
   }
  },
  {
   "cell_type": "code",
   "execution_count": 11,
   "outputs": [
    {
     "name": "stdout",
     "output_type": "stream",
     "text": [
      "Id 0\n",
      "job_id 0\n",
      "title 0\n",
      "location 205\n",
      "department 7009\n",
      "salary_range 9019\n",
      "company_profile 1962\n",
      "description 1\n",
      "requirements 1629\n",
      "benefits 4368\n",
      "telecommuting 0\n",
      "has_company_logo 0\n",
      "has_questions 0\n",
      "employment_type 2058\n",
      "required_experience 4239\n",
      "required_education 4901\n",
      "industry 2939\n",
      "function 3870\n",
      "required_doughnuts_comsumption 0\n",
      "fraudulent 0\n"
     ]
    }
   ],
   "source": [
    "for col in df.columns:\n",
    "        print(col, df[col].isna().sum())"
   ],
   "metadata": {
    "collapsed": false,
    "pycharm": {
     "name": "#%%\n"
    }
   }
  },
  {
   "cell_type": "code",
   "execution_count": 12,
   "outputs": [],
   "source": [
    "df[['country', 'state', 'region']] = df['location'].str.split(',', 2, expand=True)\n"
   ],
   "metadata": {
    "collapsed": false,
    "pycharm": {
     "name": "#%%\n"
    }
   }
  },
  {
   "cell_type": "code",
   "execution_count": 13,
   "outputs": [],
   "source": [
    "ex = df[['job_id', 'country', 'state', 'region','fraudulent']]\n",
    "ex = ex.fillna('NoLocation')\n",
    "ex = ex.replace(' ','NoLocation')"
   ],
   "metadata": {
    "collapsed": false,
    "pycharm": {
     "name": "#%%\n"
    }
   }
  },
  {
   "cell_type": "code",
   "execution_count": 14,
   "outputs": [],
   "source": [
    "def fraud_by_location(column_name):\n",
    "        cnt_tot = ex.groupby([column_name]).size().reset_index(name='counts')\n",
    "        cnt_fraud = ex.loc[ex['fraudulent']==1].groupby([column_name]).size().reset_index(name='counts')\n",
    "        cnt_tot= cnt_tot.merge(cnt_fraud,left_on=column_name, right_on=column_name,how='left', suffixes=['_tot','_fraud'])\n",
    "        cnt_tot=cnt_tot.fillna(0)\n",
    "        cnt_tot['rate_of_fraud']=(cnt_tot['counts_fraud']/cnt_tot['counts_tot'])\n",
    "        cnt_tot=cnt_tot.sort_values(by='rate_of_fraud', ascending=False)\n",
    "        return cnt_tot"
   ],
   "metadata": {
    "collapsed": false,
    "pycharm": {
     "name": "#%%\n"
    }
   }
  },
  {
   "cell_type": "code",
   "execution_count": 15,
   "outputs": [
    {
     "data": {
      "text/plain": "   country  counts_tot  counts_fraud  rate_of_fraud\n49      MY          12           7.0       0.583333\n5       AU         137          29.0       0.211679\n58      PH          81           1.0       0.012346\n33      IN         165           2.0       0.012121\n24      GB        1443          11.0       0.007623\n54      NZ         183           0.0       0.000000\n52      NL          79           0.0       0.000000\n59      PK          14           0.0       0.000000\n0       AE          33           0.0       0.000000\n65      RU          12           0.0       0.000000\n63      RO          25           0.0       0.000000\n82      ZA          19           0.0       0.000000\n69      SG          47           0.0       0.000000\n68      SE          30           0.0       0.000000\n20      EG          30           0.0       0.000000\n19      EE          44           0.0       0.000000\n18      DK          25           0.0       0.000000\n17      DE         232           0.0       0.000000\n43      LT          15           0.0       0.000000\n10      BR          21           0.0       0.000000\n8       BG          11           0.0       0.000000\n7       BE          62           0.0       0.000000\n21      ES          36           0.0       0.000000\n22      FI          17           0.0       0.000000\n23      FR          39           0.0       0.000000\n37      JP          15           0.0       0.000000\n36      IT          18           0.0       0.000000\n32      IL          47           0.0       0.000000\n31      IE          75           0.0       0.000000\n27      HK          44           0.0       0.000000\n26      GR         567           0.0       0.000000",
      "text/html": "<div>\n<style scoped>\n    .dataframe tbody tr th:only-of-type {\n        vertical-align: middle;\n    }\n\n    .dataframe tbody tr th {\n        vertical-align: top;\n    }\n\n    .dataframe thead th {\n        text-align: right;\n    }\n</style>\n<table border=\"1\" class=\"dataframe\">\n  <thead>\n    <tr style=\"text-align: right;\">\n      <th></th>\n      <th>country</th>\n      <th>counts_tot</th>\n      <th>counts_fraud</th>\n      <th>rate_of_fraud</th>\n    </tr>\n  </thead>\n  <tbody>\n    <tr>\n      <th>49</th>\n      <td>MY</td>\n      <td>12</td>\n      <td>7.0</td>\n      <td>0.583333</td>\n    </tr>\n    <tr>\n      <th>5</th>\n      <td>AU</td>\n      <td>137</td>\n      <td>29.0</td>\n      <td>0.211679</td>\n    </tr>\n    <tr>\n      <th>58</th>\n      <td>PH</td>\n      <td>81</td>\n      <td>1.0</td>\n      <td>0.012346</td>\n    </tr>\n    <tr>\n      <th>33</th>\n      <td>IN</td>\n      <td>165</td>\n      <td>2.0</td>\n      <td>0.012121</td>\n    </tr>\n    <tr>\n      <th>24</th>\n      <td>GB</td>\n      <td>1443</td>\n      <td>11.0</td>\n      <td>0.007623</td>\n    </tr>\n    <tr>\n      <th>54</th>\n      <td>NZ</td>\n      <td>183</td>\n      <td>0.0</td>\n      <td>0.000000</td>\n    </tr>\n    <tr>\n      <th>52</th>\n      <td>NL</td>\n      <td>79</td>\n      <td>0.0</td>\n      <td>0.000000</td>\n    </tr>\n    <tr>\n      <th>59</th>\n      <td>PK</td>\n      <td>14</td>\n      <td>0.0</td>\n      <td>0.000000</td>\n    </tr>\n    <tr>\n      <th>0</th>\n      <td>AE</td>\n      <td>33</td>\n      <td>0.0</td>\n      <td>0.000000</td>\n    </tr>\n    <tr>\n      <th>65</th>\n      <td>RU</td>\n      <td>12</td>\n      <td>0.0</td>\n      <td>0.000000</td>\n    </tr>\n    <tr>\n      <th>63</th>\n      <td>RO</td>\n      <td>25</td>\n      <td>0.0</td>\n      <td>0.000000</td>\n    </tr>\n    <tr>\n      <th>82</th>\n      <td>ZA</td>\n      <td>19</td>\n      <td>0.0</td>\n      <td>0.000000</td>\n    </tr>\n    <tr>\n      <th>69</th>\n      <td>SG</td>\n      <td>47</td>\n      <td>0.0</td>\n      <td>0.000000</td>\n    </tr>\n    <tr>\n      <th>68</th>\n      <td>SE</td>\n      <td>30</td>\n      <td>0.0</td>\n      <td>0.000000</td>\n    </tr>\n    <tr>\n      <th>20</th>\n      <td>EG</td>\n      <td>30</td>\n      <td>0.0</td>\n      <td>0.000000</td>\n    </tr>\n    <tr>\n      <th>19</th>\n      <td>EE</td>\n      <td>44</td>\n      <td>0.0</td>\n      <td>0.000000</td>\n    </tr>\n    <tr>\n      <th>18</th>\n      <td>DK</td>\n      <td>25</td>\n      <td>0.0</td>\n      <td>0.000000</td>\n    </tr>\n    <tr>\n      <th>17</th>\n      <td>DE</td>\n      <td>232</td>\n      <td>0.0</td>\n      <td>0.000000</td>\n    </tr>\n    <tr>\n      <th>43</th>\n      <td>LT</td>\n      <td>15</td>\n      <td>0.0</td>\n      <td>0.000000</td>\n    </tr>\n    <tr>\n      <th>10</th>\n      <td>BR</td>\n      <td>21</td>\n      <td>0.0</td>\n      <td>0.000000</td>\n    </tr>\n    <tr>\n      <th>8</th>\n      <td>BG</td>\n      <td>11</td>\n      <td>0.0</td>\n      <td>0.000000</td>\n    </tr>\n    <tr>\n      <th>7</th>\n      <td>BE</td>\n      <td>62</td>\n      <td>0.0</td>\n      <td>0.000000</td>\n    </tr>\n    <tr>\n      <th>21</th>\n      <td>ES</td>\n      <td>36</td>\n      <td>0.0</td>\n      <td>0.000000</td>\n    </tr>\n    <tr>\n      <th>22</th>\n      <td>FI</td>\n      <td>17</td>\n      <td>0.0</td>\n      <td>0.000000</td>\n    </tr>\n    <tr>\n      <th>23</th>\n      <td>FR</td>\n      <td>39</td>\n      <td>0.0</td>\n      <td>0.000000</td>\n    </tr>\n    <tr>\n      <th>37</th>\n      <td>JP</td>\n      <td>15</td>\n      <td>0.0</td>\n      <td>0.000000</td>\n    </tr>\n    <tr>\n      <th>36</th>\n      <td>IT</td>\n      <td>18</td>\n      <td>0.0</td>\n      <td>0.000000</td>\n    </tr>\n    <tr>\n      <th>32</th>\n      <td>IL</td>\n      <td>47</td>\n      <td>0.0</td>\n      <td>0.000000</td>\n    </tr>\n    <tr>\n      <th>31</th>\n      <td>IE</td>\n      <td>75</td>\n      <td>0.0</td>\n      <td>0.000000</td>\n    </tr>\n    <tr>\n      <th>27</th>\n      <td>HK</td>\n      <td>44</td>\n      <td>0.0</td>\n      <td>0.000000</td>\n    </tr>\n    <tr>\n      <th>26</th>\n      <td>GR</td>\n      <td>567</td>\n      <td>0.0</td>\n      <td>0.000000</td>\n    </tr>\n  </tbody>\n</table>\n</div>"
     },
     "execution_count": 15,
     "metadata": {},
     "output_type": "execute_result"
    }
   ],
   "source": [
    "countries = fraud_by_location('country')\n",
    "countries = countries.loc[((countries.counts_tot>10) & (countries.rate_of_fraud>0.1))|((countries.counts_tot>10) & (countries.rate_of_fraud<0.02))]\n",
    "countries"
   ],
   "metadata": {
    "collapsed": false,
    "pycharm": {
     "name": "#%%\n"
    }
   }
  },
  {
   "cell_type": "code",
   "execution_count": 16,
   "outputs": [
    {
     "data": {
      "text/plain": "    state  counts_tot  counts_fraud  rate_of_fraud\n202   NSW          66          22.0       0.333333\n172    MD          55          18.0       0.327273\n184    MS          14           4.0       0.285714\n226   QLD          14           3.0       0.214286\n192    NE          18           3.0       0.166667\n261    TX         592          92.0       0.155405\n41     AL          43           6.0       0.139535\n153    KS          24           3.0       0.125000\n265    UT          60           1.0       0.016667\n214    OR         121           2.0       0.016529\n165   LND         605           2.0       0.003306\n208   NYK          16           0.0       0.000000\n15     25          11           0.0       0.000000\n6      07          25           0.0       0.000000\n8      11          11           0.0       0.000000\n187     N         152           0.0       0.000000\n19     37          41           0.0       0.000000\n194   NET          13           0.0       0.000000\n196    NH          46           0.0       0.000000\n200    NM          12           0.0       0.000000\n230   RIC          17           0.0       0.000000\n270   VIC          35           0.0       0.000000\n273   VOV          12           0.0       0.000000\n282   WKF          14           0.0       0.000000\n288    WV          15           0.0       0.000000\n238    SD          17           0.0       0.000000\n244   SOM          12           0.0       0.000000\n246    SP          14           0.0       0.000000\n176    MH          17           0.0       0.000000\n49      B          37           0.0       0.000000\n46     AP          18           0.0       0.000000\n95     DL          17           0.0       0.000000\n81    CMD          20           0.0       0.000000\n100    DU          20           0.0       0.000000\n102     E          13           0.0       0.000000\n107   ENG          22           0.0       0.000000\n54     BE         142           0.0       0.000000\n56    BIR          15           0.0       0.000000\n64    BRU          16           0.0       0.000000\n70     BY          47           0.0       0.000000\n71      C          24           0.0       0.000000\n157     L          32           0.0       0.000000\n145     J          26           0.0       0.000000\n1      01          24           0.0       0.000000\n149    KA          23           0.0       0.000000\n161   LDS          16           0.0       0.000000\n170   MAN          25           0.0       0.000000\n52     BC          61           0.0       0.000000\n144   ISL          14           0.0       0.000000\n31     84          13           0.0       0.000000\n118   GBN          16           0.0       0.000000\n138     I         421           0.0       0.000000\n0      00          23           0.0       0.000000",
      "text/html": "<div>\n<style scoped>\n    .dataframe tbody tr th:only-of-type {\n        vertical-align: middle;\n    }\n\n    .dataframe tbody tr th {\n        vertical-align: top;\n    }\n\n    .dataframe thead th {\n        text-align: right;\n    }\n</style>\n<table border=\"1\" class=\"dataframe\">\n  <thead>\n    <tr style=\"text-align: right;\">\n      <th></th>\n      <th>state</th>\n      <th>counts_tot</th>\n      <th>counts_fraud</th>\n      <th>rate_of_fraud</th>\n    </tr>\n  </thead>\n  <tbody>\n    <tr>\n      <th>202</th>\n      <td>NSW</td>\n      <td>66</td>\n      <td>22.0</td>\n      <td>0.333333</td>\n    </tr>\n    <tr>\n      <th>172</th>\n      <td>MD</td>\n      <td>55</td>\n      <td>18.0</td>\n      <td>0.327273</td>\n    </tr>\n    <tr>\n      <th>184</th>\n      <td>MS</td>\n      <td>14</td>\n      <td>4.0</td>\n      <td>0.285714</td>\n    </tr>\n    <tr>\n      <th>226</th>\n      <td>QLD</td>\n      <td>14</td>\n      <td>3.0</td>\n      <td>0.214286</td>\n    </tr>\n    <tr>\n      <th>192</th>\n      <td>NE</td>\n      <td>18</td>\n      <td>3.0</td>\n      <td>0.166667</td>\n    </tr>\n    <tr>\n      <th>261</th>\n      <td>TX</td>\n      <td>592</td>\n      <td>92.0</td>\n      <td>0.155405</td>\n    </tr>\n    <tr>\n      <th>41</th>\n      <td>AL</td>\n      <td>43</td>\n      <td>6.0</td>\n      <td>0.139535</td>\n    </tr>\n    <tr>\n      <th>153</th>\n      <td>KS</td>\n      <td>24</td>\n      <td>3.0</td>\n      <td>0.125000</td>\n    </tr>\n    <tr>\n      <th>265</th>\n      <td>UT</td>\n      <td>60</td>\n      <td>1.0</td>\n      <td>0.016667</td>\n    </tr>\n    <tr>\n      <th>214</th>\n      <td>OR</td>\n      <td>121</td>\n      <td>2.0</td>\n      <td>0.016529</td>\n    </tr>\n    <tr>\n      <th>165</th>\n      <td>LND</td>\n      <td>605</td>\n      <td>2.0</td>\n      <td>0.003306</td>\n    </tr>\n    <tr>\n      <th>208</th>\n      <td>NYK</td>\n      <td>16</td>\n      <td>0.0</td>\n      <td>0.000000</td>\n    </tr>\n    <tr>\n      <th>15</th>\n      <td>25</td>\n      <td>11</td>\n      <td>0.0</td>\n      <td>0.000000</td>\n    </tr>\n    <tr>\n      <th>6</th>\n      <td>07</td>\n      <td>25</td>\n      <td>0.0</td>\n      <td>0.000000</td>\n    </tr>\n    <tr>\n      <th>8</th>\n      <td>11</td>\n      <td>11</td>\n      <td>0.0</td>\n      <td>0.000000</td>\n    </tr>\n    <tr>\n      <th>187</th>\n      <td>N</td>\n      <td>152</td>\n      <td>0.0</td>\n      <td>0.000000</td>\n    </tr>\n    <tr>\n      <th>19</th>\n      <td>37</td>\n      <td>41</td>\n      <td>0.0</td>\n      <td>0.000000</td>\n    </tr>\n    <tr>\n      <th>194</th>\n      <td>NET</td>\n      <td>13</td>\n      <td>0.0</td>\n      <td>0.000000</td>\n    </tr>\n    <tr>\n      <th>196</th>\n      <td>NH</td>\n      <td>46</td>\n      <td>0.0</td>\n      <td>0.000000</td>\n    </tr>\n    <tr>\n      <th>200</th>\n      <td>NM</td>\n      <td>12</td>\n      <td>0.0</td>\n      <td>0.000000</td>\n    </tr>\n    <tr>\n      <th>230</th>\n      <td>RIC</td>\n      <td>17</td>\n      <td>0.0</td>\n      <td>0.000000</td>\n    </tr>\n    <tr>\n      <th>270</th>\n      <td>VIC</td>\n      <td>35</td>\n      <td>0.0</td>\n      <td>0.000000</td>\n    </tr>\n    <tr>\n      <th>273</th>\n      <td>VOV</td>\n      <td>12</td>\n      <td>0.0</td>\n      <td>0.000000</td>\n    </tr>\n    <tr>\n      <th>282</th>\n      <td>WKF</td>\n      <td>14</td>\n      <td>0.0</td>\n      <td>0.000000</td>\n    </tr>\n    <tr>\n      <th>288</th>\n      <td>WV</td>\n      <td>15</td>\n      <td>0.0</td>\n      <td>0.000000</td>\n    </tr>\n    <tr>\n      <th>238</th>\n      <td>SD</td>\n      <td>17</td>\n      <td>0.0</td>\n      <td>0.000000</td>\n    </tr>\n    <tr>\n      <th>244</th>\n      <td>SOM</td>\n      <td>12</td>\n      <td>0.0</td>\n      <td>0.000000</td>\n    </tr>\n    <tr>\n      <th>246</th>\n      <td>SP</td>\n      <td>14</td>\n      <td>0.0</td>\n      <td>0.000000</td>\n    </tr>\n    <tr>\n      <th>176</th>\n      <td>MH</td>\n      <td>17</td>\n      <td>0.0</td>\n      <td>0.000000</td>\n    </tr>\n    <tr>\n      <th>49</th>\n      <td>B</td>\n      <td>37</td>\n      <td>0.0</td>\n      <td>0.000000</td>\n    </tr>\n    <tr>\n      <th>46</th>\n      <td>AP</td>\n      <td>18</td>\n      <td>0.0</td>\n      <td>0.000000</td>\n    </tr>\n    <tr>\n      <th>95</th>\n      <td>DL</td>\n      <td>17</td>\n      <td>0.0</td>\n      <td>0.000000</td>\n    </tr>\n    <tr>\n      <th>81</th>\n      <td>CMD</td>\n      <td>20</td>\n      <td>0.0</td>\n      <td>0.000000</td>\n    </tr>\n    <tr>\n      <th>100</th>\n      <td>DU</td>\n      <td>20</td>\n      <td>0.0</td>\n      <td>0.000000</td>\n    </tr>\n    <tr>\n      <th>102</th>\n      <td>E</td>\n      <td>13</td>\n      <td>0.0</td>\n      <td>0.000000</td>\n    </tr>\n    <tr>\n      <th>107</th>\n      <td>ENG</td>\n      <td>22</td>\n      <td>0.0</td>\n      <td>0.000000</td>\n    </tr>\n    <tr>\n      <th>54</th>\n      <td>BE</td>\n      <td>142</td>\n      <td>0.0</td>\n      <td>0.000000</td>\n    </tr>\n    <tr>\n      <th>56</th>\n      <td>BIR</td>\n      <td>15</td>\n      <td>0.0</td>\n      <td>0.000000</td>\n    </tr>\n    <tr>\n      <th>64</th>\n      <td>BRU</td>\n      <td>16</td>\n      <td>0.0</td>\n      <td>0.000000</td>\n    </tr>\n    <tr>\n      <th>70</th>\n      <td>BY</td>\n      <td>47</td>\n      <td>0.0</td>\n      <td>0.000000</td>\n    </tr>\n    <tr>\n      <th>71</th>\n      <td>C</td>\n      <td>24</td>\n      <td>0.0</td>\n      <td>0.000000</td>\n    </tr>\n    <tr>\n      <th>157</th>\n      <td>L</td>\n      <td>32</td>\n      <td>0.0</td>\n      <td>0.000000</td>\n    </tr>\n    <tr>\n      <th>145</th>\n      <td>J</td>\n      <td>26</td>\n      <td>0.0</td>\n      <td>0.000000</td>\n    </tr>\n    <tr>\n      <th>1</th>\n      <td>01</td>\n      <td>24</td>\n      <td>0.0</td>\n      <td>0.000000</td>\n    </tr>\n    <tr>\n      <th>149</th>\n      <td>KA</td>\n      <td>23</td>\n      <td>0.0</td>\n      <td>0.000000</td>\n    </tr>\n    <tr>\n      <th>161</th>\n      <td>LDS</td>\n      <td>16</td>\n      <td>0.0</td>\n      <td>0.000000</td>\n    </tr>\n    <tr>\n      <th>170</th>\n      <td>MAN</td>\n      <td>25</td>\n      <td>0.0</td>\n      <td>0.000000</td>\n    </tr>\n    <tr>\n      <th>52</th>\n      <td>BC</td>\n      <td>61</td>\n      <td>0.0</td>\n      <td>0.000000</td>\n    </tr>\n    <tr>\n      <th>144</th>\n      <td>ISL</td>\n      <td>14</td>\n      <td>0.0</td>\n      <td>0.000000</td>\n    </tr>\n    <tr>\n      <th>31</th>\n      <td>84</td>\n      <td>13</td>\n      <td>0.0</td>\n      <td>0.000000</td>\n    </tr>\n    <tr>\n      <th>118</th>\n      <td>GBN</td>\n      <td>16</td>\n      <td>0.0</td>\n      <td>0.000000</td>\n    </tr>\n    <tr>\n      <th>138</th>\n      <td>I</td>\n      <td>421</td>\n      <td>0.0</td>\n      <td>0.000000</td>\n    </tr>\n    <tr>\n      <th>0</th>\n      <td>00</td>\n      <td>23</td>\n      <td>0.0</td>\n      <td>0.000000</td>\n    </tr>\n  </tbody>\n</table>\n</div>"
     },
     "execution_count": 16,
     "metadata": {},
     "output_type": "execute_result"
    }
   ],
   "source": [
    "states = fraud_by_location('state')\n",
    "states = states.loc[((states.counts_tot > 10) & (states.rate_of_fraud > 0.1)) | ((states.counts_tot > 10) & (states.rate_of_fraud < 0.02))]\n",
    "states\n"
   ],
   "metadata": {
    "collapsed": false,
    "pycharm": {
     "name": "#%%\n"
    }
   }
  },
  {
   "cell_type": "code",
   "execution_count": 17,
   "outputs": [
    {
     "data": {
      "text/plain": "            region  counts_tot  counts_fraud  rate_of_fraud\n150    Bakersfield          13          11.0       0.846154\n1401     San Mateo          26          11.0       0.423077\n1077            NY          12           5.0       0.416667\n1546        Sydney          51          21.0       0.411765\n747        Houston         155          58.0       0.374194\n...            ...         ...           ...            ...\n540     El Segundo          14           0.0       0.000000\n534       Edmonton          12           0.0       0.000000\n735      Hilversum          15           0.0       0.000000\n703      Harrogate          11           0.0       0.000000\n696        Hampton          14           0.0       0.000000\n\n[104 rows x 4 columns]",
      "text/html": "<div>\n<style scoped>\n    .dataframe tbody tr th:only-of-type {\n        vertical-align: middle;\n    }\n\n    .dataframe tbody tr th {\n        vertical-align: top;\n    }\n\n    .dataframe thead th {\n        text-align: right;\n    }\n</style>\n<table border=\"1\" class=\"dataframe\">\n  <thead>\n    <tr style=\"text-align: right;\">\n      <th></th>\n      <th>region</th>\n      <th>counts_tot</th>\n      <th>counts_fraud</th>\n      <th>rate_of_fraud</th>\n    </tr>\n  </thead>\n  <tbody>\n    <tr>\n      <th>150</th>\n      <td>Bakersfield</td>\n      <td>13</td>\n      <td>11.0</td>\n      <td>0.846154</td>\n    </tr>\n    <tr>\n      <th>1401</th>\n      <td>San Mateo</td>\n      <td>26</td>\n      <td>11.0</td>\n      <td>0.423077</td>\n    </tr>\n    <tr>\n      <th>1077</th>\n      <td>NY</td>\n      <td>12</td>\n      <td>5.0</td>\n      <td>0.416667</td>\n    </tr>\n    <tr>\n      <th>1546</th>\n      <td>Sydney</td>\n      <td>51</td>\n      <td>21.0</td>\n      <td>0.411765</td>\n    </tr>\n    <tr>\n      <th>747</th>\n      <td>Houston</td>\n      <td>155</td>\n      <td>58.0</td>\n      <td>0.374194</td>\n    </tr>\n    <tr>\n      <th>...</th>\n      <td>...</td>\n      <td>...</td>\n      <td>...</td>\n      <td>...</td>\n    </tr>\n    <tr>\n      <th>540</th>\n      <td>El Segundo</td>\n      <td>14</td>\n      <td>0.0</td>\n      <td>0.000000</td>\n    </tr>\n    <tr>\n      <th>534</th>\n      <td>Edmonton</td>\n      <td>12</td>\n      <td>0.0</td>\n      <td>0.000000</td>\n    </tr>\n    <tr>\n      <th>735</th>\n      <td>Hilversum</td>\n      <td>15</td>\n      <td>0.0</td>\n      <td>0.000000</td>\n    </tr>\n    <tr>\n      <th>703</th>\n      <td>Harrogate</td>\n      <td>11</td>\n      <td>0.0</td>\n      <td>0.000000</td>\n    </tr>\n    <tr>\n      <th>696</th>\n      <td>Hampton</td>\n      <td>14</td>\n      <td>0.0</td>\n      <td>0.000000</td>\n    </tr>\n  </tbody>\n</table>\n<p>104 rows × 4 columns</p>\n</div>"
     },
     "execution_count": 17,
     "metadata": {},
     "output_type": "execute_result"
    }
   ],
   "source": [
    "regions = fraud_by_location('region')\n",
    "regions = regions.loc[((regions.counts_tot>10) & (regions.rate_of_fraud>0.1))|((regions.counts_tot>10) & (regions.rate_of_fraud<0.02))]\n",
    "regions"
   ],
   "metadata": {
    "collapsed": false,
    "pycharm": {
     "name": "#%%\n"
    }
   }
  },
  {
   "cell_type": "code",
   "execution_count": 18,
   "outputs": [],
   "source": [
    "def process_features_OHE_for_each_significant_location(df, is_test_data=False):\n",
    "    #locations with more than 10 records and rate greater than 0.1\n",
    "    regions = fraud_by_location('region')\n",
    "    regions = regions.loc[((regions.counts_tot>10) & (regions.rate_of_fraud>0.1))|((regions.counts_tot>10) & (regions.rate_of_fraud<0.02))]\n",
    "    regions = regions['region'].tolist()\n",
    "    regions = [i.strip() for i in regions]\n",
    "\n",
    "    countries = fraud_by_location('country')\n",
    "    countries = countries.loc[((countries.counts_tot>10) & (countries.rate_of_fraud>0.1))|((countries.counts_tot>10) & (countries.rate_of_fraud<0.02))]\n",
    "    countries = countries['country'].tolist()\n",
    "    countries = [i.strip() for i in countries]\n",
    "    states = fraud_by_location('state')\n",
    "    states = states.loc[((states.counts_tot > 10) & (states.rate_of_fraud > 0.1)) | ((states.counts_tot > 10) & (states.rate_of_fraud < 0.02))]\n",
    "    states = states['state'].tolist()\n",
    "    states = [i.strip() for i in states]\n",
    "\n",
    "    df[['country', 'state', 'region']] = df['location'].str.split(',', 2, expand=True)\n",
    "    df = df.fillna('nolocation')\n",
    "    df = df.replace('','nolocation')\n",
    "    df = df.replace(' ','nolocation')\n",
    "\n",
    "    for r in regions:\n",
    "        df['has_region_'+r] = 0\n",
    "        df['has_region_'+r] = df.apply(lambda x: 1 if x['region'].strip()==r else 0 , axis=1)\n",
    "\n",
    "    for r in countries:\n",
    "        df['has_country_'+r] = 0\n",
    "        df['has_country_'+r] = df.apply(lambda x: 1 if x['country'].strip()==r else 0 , axis=1)\n",
    "\n",
    "    for r in states:\n",
    "        df['has_state_'+r] = 0\n",
    "        df['has_state_'+r] = df.apply(lambda x: 1 if x['state'].strip()==r else 0 , axis=1)\n",
    "\n",
    "    X = df.loc[:,'has_region_Bakersfield':'has_state_00']\n",
    "    if(not is_test_data):\n",
    "        X['fraudulent']= df['fraudulent']\n",
    "    return X"
   ],
   "metadata": {
    "collapsed": false,
    "pycharm": {
     "name": "#%%\n"
    }
   }
  },
  {
   "cell_type": "code",
   "execution_count": 19,
   "outputs": [],
   "source": [
    "def process_features_grouped_per_signigicant_location_type(df, is_test_data=False):\n",
    "    #locations with more than 10 records and rate greater than 0.1\n",
    "    def process_df(loct):\n",
    "        df = fraud_by_location(loct)\n",
    "        high = df.loc[((df.counts_tot>10) & (df.rate_of_fraud>0.1))]\n",
    "        low = df.loc[((df.counts_tot>10) & (df.rate_of_fraud<0.02))]\n",
    "        high = high[loct].tolist()\n",
    "        high = [i.strip() for i in high]\n",
    "        low = low[loct].tolist()\n",
    "        low = [i.strip() for i in low]\n",
    "        return high,low\n",
    "\n",
    "    regions_high,regions_low = process_df('region')\n",
    "    countries_high,countries_low = process_df('country')\n",
    "    states_high,states_low = process_df('state')\n",
    "\n",
    "    df[['country', 'state', 'region']] = df['location'].str.split(',', 2, expand=True)\n",
    "    df = df.fillna('nolocation')\n",
    "    df = df.replace('','nolocation')\n",
    "    df = df.replace(' ','nolocation')\n",
    "\n",
    "    X = pd.DataFrame(df['country'])\n",
    "    X['high_risk_region']= df.apply(lambda x: 1 if x['region'].strip()in regions_high else 0 , axis=1)\n",
    "    X['low_risk_region']= df.apply(lambda x: 1 if x['region'].strip()in regions_low else 0 , axis=1)\n",
    "    X['low_risk_country']= df.apply(lambda x: 1 if x['country'].strip()in countries_low else 0 , axis=1)\n",
    "    X['high_risk_country']= df.apply(lambda x: 1 if x['country'].strip()in countries_high else 0 , axis=1)\n",
    "    X['low_risk_state']= df.apply(lambda x: 1 if x['state'].strip()in states_low else 0 , axis=1)\n",
    "    X['high_risk_state']= df.apply(lambda x: 1 if x['state'].strip()in states_high else 0 , axis=1)\n",
    "    X.pop('country')\n",
    "    if(not is_test_data):\n",
    "        X['fraudulent']= df['fraudulent']\n",
    "    return X"
   ],
   "metadata": {
    "collapsed": false,
    "pycharm": {
     "name": "#%%\n"
    }
   }
  },
  {
   "cell_type": "code",
   "execution_count": 20,
   "outputs": [],
   "source": [
    "def process_features_single_column(df, is_test_data=False):\n",
    "    #locations with more than 10 records and rate greater than 0.1\n",
    "    def process_df(loct):\n",
    "        df = fraud_by_location(loct)\n",
    "        high = df.loc[((df.counts_tot>15) & (df.rate_of_fraud>0.15))]\n",
    "        low = df.loc[((df.counts_tot>15) & (df.rate_of_fraud<0.015))]\n",
    "        high = high[loct].tolist()\n",
    "        high = [i.strip() for i in high]\n",
    "        low = low[loct].tolist()\n",
    "        low = [i.strip() for i in low]\n",
    "        return high,low\n",
    "\n",
    "    regions_high,regions_low = process_df('region')\n",
    "    countries_high,countries_low = process_df('country')\n",
    "    states_high,states_low = process_df('state')\n",
    "\n",
    "    df[['country', 'state', 'region']] = df['location'].str.split(',', 2, expand=True)\n",
    "    df = df.fillna('nolocation')\n",
    "    df = df.replace('','nolocation')\n",
    "    df = df.replace(' ','nolocation')\n",
    "\n",
    "    X = pd.DataFrame(df[['country','region','state']])\n",
    "    X['risk_location']= 0\n",
    "\n",
    "    X['risk_location']= X.apply(lambda x: 1 if x['region'].strip() in regions_high else x['risk_location'], axis=1)\n",
    "    X['risk_location']= X.apply(lambda x: -1 if x['region'].strip()in regions_low else x['risk_location'] , axis=1)\n",
    "    X['risk_location']= X.apply(lambda x: -1 if x['country'].strip()in countries_low else x['risk_location'] , axis=1)\n",
    "    X['risk_location']= X.apply(lambda x: 1 if x['country'].strip()in countries_high else x['risk_location'] , axis=1)\n",
    "    X['risk_location']= X.apply(lambda x: -1 if x['state'].strip()in states_low else x['risk_location'] , axis=1)\n",
    "    X['risk_location']= X.apply(lambda x: 1 if x['state'].strip()in states_high else x['risk_location'] , axis=1)\n",
    "    X.pop('country')\n",
    "    X.pop('region')\n",
    "    X.pop('state')\n",
    "    if(not is_test_data):\n",
    "        X['fraudulent']= df['fraudulent']\n",
    "    return X"
   ],
   "metadata": {
    "collapsed": false,
    "pycharm": {
     "name": "#%%\n"
    }
   }
  },
  {
   "cell_type": "code",
   "execution_count": 21,
   "outputs": [],
   "source": [
    "train = pd.read_csv('../inclassfakejobs/train.csv')\n",
    "train = process_features_single_column(train)\n",
    "# train.to_csv('JD_train4.csv')"
   ],
   "metadata": {
    "collapsed": false,
    "pycharm": {
     "name": "#%%\n"
    }
   }
  },
  {
   "cell_type": "code",
   "execution_count": 23,
   "outputs": [
    {
     "data": {
      "text/plain": "10728"
     },
     "execution_count": 23,
     "metadata": {},
     "output_type": "execute_result"
    }
   ],
   "source": [
    "i_after=train.index\n",
    "i_before==i_after"
   ],
   "metadata": {
    "collapsed": false,
    "pycharm": {
     "name": "#%%\n"
    }
   }
  },
  {
   "cell_type": "code",
   "execution_count": 88,
   "outputs": [],
   "source": [
    "test = pd.read_csv('../inclassfakejobs/test.csv')\n",
    "test = process_features_single_column(test, is_test_data=True)\n",
    "# test.to_csv('JD_test4.csv')"
   ],
   "metadata": {
    "collapsed": false,
    "pycharm": {
     "name": "#%%\n"
    }
   }
  },
  {
   "cell_type": "code",
   "execution_count": 89,
   "outputs": [
    {
     "data": {
      "text/plain": "       risk_location  fraudulent\n0                  0           0\n1                  0           0\n2                  0           0\n3                 -1           0\n4                 -1           0\n...              ...         ...\n10723              1           0\n10724              0           0\n10725              0           0\n10726              0           0\n10727              0           0\n\n[10728 rows x 2 columns]",
      "text/html": "<div>\n<style scoped>\n    .dataframe tbody tr th:only-of-type {\n        vertical-align: middle;\n    }\n\n    .dataframe tbody tr th {\n        vertical-align: top;\n    }\n\n    .dataframe thead th {\n        text-align: right;\n    }\n</style>\n<table border=\"1\" class=\"dataframe\">\n  <thead>\n    <tr style=\"text-align: right;\">\n      <th></th>\n      <th>risk_location</th>\n      <th>fraudulent</th>\n    </tr>\n  </thead>\n  <tbody>\n    <tr>\n      <th>0</th>\n      <td>0</td>\n      <td>0</td>\n    </tr>\n    <tr>\n      <th>1</th>\n      <td>0</td>\n      <td>0</td>\n    </tr>\n    <tr>\n      <th>2</th>\n      <td>0</td>\n      <td>0</td>\n    </tr>\n    <tr>\n      <th>3</th>\n      <td>-1</td>\n      <td>0</td>\n    </tr>\n    <tr>\n      <th>4</th>\n      <td>-1</td>\n      <td>0</td>\n    </tr>\n    <tr>\n      <th>...</th>\n      <td>...</td>\n      <td>...</td>\n    </tr>\n    <tr>\n      <th>10723</th>\n      <td>1</td>\n      <td>0</td>\n    </tr>\n    <tr>\n      <th>10724</th>\n      <td>0</td>\n      <td>0</td>\n    </tr>\n    <tr>\n      <th>10725</th>\n      <td>0</td>\n      <td>0</td>\n    </tr>\n    <tr>\n      <th>10726</th>\n      <td>0</td>\n      <td>0</td>\n    </tr>\n    <tr>\n      <th>10727</th>\n      <td>0</td>\n      <td>0</td>\n    </tr>\n  </tbody>\n</table>\n<p>10728 rows × 2 columns</p>\n</div>"
     },
     "execution_count": 89,
     "metadata": {},
     "output_type": "execute_result"
    }
   ],
   "source": [
    "train"
   ],
   "metadata": {
    "collapsed": false,
    "pycharm": {
     "name": "#%%\n"
    }
   }
  },
  {
   "cell_type": "code",
   "execution_count": 90,
   "outputs": [
    {
     "data": {
      "text/plain": "          Id  job_id                                              title  \\\n0          0    5737   Jr. Business Analyst & Quality Analyst (entry...   \n1          1    7107                            English Teacher Abroad    \n2          2   11979  SQL Server Database Developer Job opportunity ...   \n3          3    9375                       Legal Analyst - 12 Month FTC   \n4          4    1301                        Part-Time Finance Assistant   \n...      ...     ...                                                ...   \n10723  10723   11225                                  Production Artist   \n10724  10724    7567                                      iOS Developer   \n10725  10725    9098                 Graduates: English Teacher Abroad    \n10726  10726    4821               Senior IT Security Lead (SIEM / IDS)   \n10727  10727    8559                             Front-End Web Engineer   \n\n                       location department  salary_range  \\\n0            US, NJ, PISCATAWAY        NaN           NaN   \n1             US, PA, Scranton         NaN           NaN   \n2            US, IL, Barrington        NaN  90000-100000   \n3               GB, LND, London      Legal           NaN   \n4                     GB, LND,         NaN           NaN   \n...                         ...        ...           ...   \n10723            US, TX, Austin     Design           NaN   \n10724            US, , New York        NaN           NaN   \n10725           US, CA, Fremont        NaN           NaN   \n10726  US, CO, Colorado Springs        NaN           NaN   \n10727           CA, ON, Toronto        NaN        80-100   \n\n                                         company_profile  \\\n0                                                    NaN   \n1      We help teachers get safe &amp; secure jobs ab...   \n2      We are an innovative personnel-sourcing firm w...   \n3      MarketInvoice is one of the most high-profile ...   \n4                                                    NaN   \n...                                                  ...   \n10723  We're an emerging technology agency, and we bu...   \n10724  BlueLine Grid is transforming government commu...   \n10725  We help teachers get safe &amp; secure jobs ab...   \n10726  Roland &amp; Associates is a Corporate Recruit...   \n10727  Joist is a platform for trades contractors tha...   \n\n                                             description  \\\n0      Duration: Full time / W2Location: Piscataway,N...   \n1      Play with kids, get paid for it Love travel? J...   \n2      Position : SQL Server Database DeveloperJob Lo...   \n3      DescriptionOur mission at MarketInvoice is to ...   \n4      Salary:£9 - £10 per hour We are currently goin...   \n...                                                  ...   \n10723  Your hand develops our complete digital visual...   \n10724  BlueLine Grid is transforming government commu...   \n10725  Play with kids, get paid for it :-)Love travel...   \n10726  You will own the development of operational pl...   \n10727  ***VISIT OUR CAREERS PAGE HERE TO LEARN MORE A...   \n\n                                            requirements  \\\n0      What we require:-- Masters degree in Computers...   \n1      University degree required. TEFL / TESOL / CEL...   \n2      Position : SQL Server Database DeveloperJob Lo...   \n3      Duties and ResponsibilitiesReviewing contractu...   \n4      Your role will be a varied, interesting and in...   \n...                                                  ...   \n10723  Requirements/Qualifications:1+ years of intera...   \n10724  BS/MS degree in Computer Science, Engineering ...   \n10725  University degree required. TEFL / TESOL / CEL...   \n10726  Job Role :  Senior IT Security Lead (SIEM / ID...   \n10727                                                NaN   \n\n                                                benefits  ...  \\\n0                                                    NaN  ...   \n1                                    See job description  ...   \n2                    Benefits - FullBonus Eligible - Yes  ...   \n3      Competitive salaryPrivate HealthcareHalf price...  ...   \n4                              Salary:£9 - £10 per hour   ...   \n...                                                  ...  ...   \n10723  Why work for Mutual Mobile? We craft beautiful...  ...   \n10724  Full health, vision, dental benefitsNo vacatio...  ...   \n10725                                See job description  ...   \n10726  Salary: Excellent package with full benefits a...  ...   \n10727                                                NaN  ...   \n\n       employment_type  required_experience  required_education  \\\n0            Full-time          Entry level     Master's Degree   \n1             Contract                  NaN   Bachelor's Degree   \n2            Full-time     Mid-Senior level   Bachelor's Degree   \n3            Full-time            Associate        Professional   \n4            Part-time                  NaN                 NaN   \n...                ...                  ...                 ...   \n10723        Full-time            Associate   Bachelor's Degree   \n10724        Full-time     Mid-Senior level         Unspecified   \n10725         Contract                  NaN   Bachelor's Degree   \n10726        Full-time     Mid-Senior level    Associate Degree   \n10727        Full-time                  NaN                 NaN   \n\n                                  industry                function  \\\n0                       Financial Services                 Finance   \n1                     Education Management                     NaN   \n2      Information Technology and Services  Information Technology   \n3                       Financial Services                   Legal   \n4                               Accounting                     NaN   \n...                                    ...                     ...   \n10723                    Computer Software                  Design   \n10724                                  NaN  Information Technology   \n10725                 Education Management                     NaN   \n10726  Electrical/Electronic Manufacturing  Information Technology   \n10727                    Computer Software  Information Technology   \n\n      required_doughnuts_comsumption fraudulent country  state  \\\n0                          -0.410911          0      US     NJ   \n1                          -0.163785          0      US     PA   \n2                          -0.244369          0      US     IL   \n3                          -0.456807          0      GB    LND   \n4                          -0.217880          0      GB    LND   \n...                              ...        ...     ...    ...   \n10723                       0.208937          0      US     TX   \n10724                      -0.089956          0      US          \n10725                       0.335414          0      US     CA   \n10726                      -0.262851          0      US     CO   \n10727                       0.127035          0      CA     ON   \n\n                  region  \n0             PISCATAWAY  \n1              Scranton   \n2             Barrington  \n3                 London  \n4                         \n...                  ...  \n10723             Austin  \n10724           New York  \n10725            Fremont  \n10726   Colorado Springs  \n10727            Toronto  \n\n[10728 rows x 23 columns]",
      "text/html": "<div>\n<style scoped>\n    .dataframe tbody tr th:only-of-type {\n        vertical-align: middle;\n    }\n\n    .dataframe tbody tr th {\n        vertical-align: top;\n    }\n\n    .dataframe thead th {\n        text-align: right;\n    }\n</style>\n<table border=\"1\" class=\"dataframe\">\n  <thead>\n    <tr style=\"text-align: right;\">\n      <th></th>\n      <th>Id</th>\n      <th>job_id</th>\n      <th>title</th>\n      <th>location</th>\n      <th>department</th>\n      <th>salary_range</th>\n      <th>company_profile</th>\n      <th>description</th>\n      <th>requirements</th>\n      <th>benefits</th>\n      <th>...</th>\n      <th>employment_type</th>\n      <th>required_experience</th>\n      <th>required_education</th>\n      <th>industry</th>\n      <th>function</th>\n      <th>required_doughnuts_comsumption</th>\n      <th>fraudulent</th>\n      <th>country</th>\n      <th>state</th>\n      <th>region</th>\n    </tr>\n  </thead>\n  <tbody>\n    <tr>\n      <th>0</th>\n      <td>0</td>\n      <td>5737</td>\n      <td>Jr. Business Analyst &amp; Quality Analyst (entry...</td>\n      <td>US, NJ, PISCATAWAY</td>\n      <td>NaN</td>\n      <td>NaN</td>\n      <td>NaN</td>\n      <td>Duration: Full time / W2Location: Piscataway,N...</td>\n      <td>What we require:-- Masters degree in Computers...</td>\n      <td>NaN</td>\n      <td>...</td>\n      <td>Full-time</td>\n      <td>Entry level</td>\n      <td>Master's Degree</td>\n      <td>Financial Services</td>\n      <td>Finance</td>\n      <td>-0.410911</td>\n      <td>0</td>\n      <td>US</td>\n      <td>NJ</td>\n      <td>PISCATAWAY</td>\n    </tr>\n    <tr>\n      <th>1</th>\n      <td>1</td>\n      <td>7107</td>\n      <td>English Teacher Abroad</td>\n      <td>US, PA, Scranton</td>\n      <td>NaN</td>\n      <td>NaN</td>\n      <td>We help teachers get safe &amp;amp; secure jobs ab...</td>\n      <td>Play with kids, get paid for it Love travel? J...</td>\n      <td>University degree required. TEFL / TESOL / CEL...</td>\n      <td>See job description</td>\n      <td>...</td>\n      <td>Contract</td>\n      <td>NaN</td>\n      <td>Bachelor's Degree</td>\n      <td>Education Management</td>\n      <td>NaN</td>\n      <td>-0.163785</td>\n      <td>0</td>\n      <td>US</td>\n      <td>PA</td>\n      <td>Scranton</td>\n    </tr>\n    <tr>\n      <th>2</th>\n      <td>2</td>\n      <td>11979</td>\n      <td>SQL Server Database Developer Job opportunity ...</td>\n      <td>US, IL, Barrington</td>\n      <td>NaN</td>\n      <td>90000-100000</td>\n      <td>We are an innovative personnel-sourcing firm w...</td>\n      <td>Position : SQL Server Database DeveloperJob Lo...</td>\n      <td>Position : SQL Server Database DeveloperJob Lo...</td>\n      <td>Benefits - FullBonus Eligible - Yes</td>\n      <td>...</td>\n      <td>Full-time</td>\n      <td>Mid-Senior level</td>\n      <td>Bachelor's Degree</td>\n      <td>Information Technology and Services</td>\n      <td>Information Technology</td>\n      <td>-0.244369</td>\n      <td>0</td>\n      <td>US</td>\n      <td>IL</td>\n      <td>Barrington</td>\n    </tr>\n    <tr>\n      <th>3</th>\n      <td>3</td>\n      <td>9375</td>\n      <td>Legal Analyst - 12 Month FTC</td>\n      <td>GB, LND, London</td>\n      <td>Legal</td>\n      <td>NaN</td>\n      <td>MarketInvoice is one of the most high-profile ...</td>\n      <td>DescriptionOur mission at MarketInvoice is to ...</td>\n      <td>Duties and ResponsibilitiesReviewing contractu...</td>\n      <td>Competitive salaryPrivate HealthcareHalf price...</td>\n      <td>...</td>\n      <td>Full-time</td>\n      <td>Associate</td>\n      <td>Professional</td>\n      <td>Financial Services</td>\n      <td>Legal</td>\n      <td>-0.456807</td>\n      <td>0</td>\n      <td>GB</td>\n      <td>LND</td>\n      <td>London</td>\n    </tr>\n    <tr>\n      <th>4</th>\n      <td>4</td>\n      <td>1301</td>\n      <td>Part-Time Finance Assistant</td>\n      <td>GB, LND,</td>\n      <td>NaN</td>\n      <td>NaN</td>\n      <td>NaN</td>\n      <td>Salary:£9 - £10 per hour We are currently goin...</td>\n      <td>Your role will be a varied, interesting and in...</td>\n      <td>Salary:£9 - £10 per hour</td>\n      <td>...</td>\n      <td>Part-time</td>\n      <td>NaN</td>\n      <td>NaN</td>\n      <td>Accounting</td>\n      <td>NaN</td>\n      <td>-0.217880</td>\n      <td>0</td>\n      <td>GB</td>\n      <td>LND</td>\n      <td></td>\n    </tr>\n    <tr>\n      <th>...</th>\n      <td>...</td>\n      <td>...</td>\n      <td>...</td>\n      <td>...</td>\n      <td>...</td>\n      <td>...</td>\n      <td>...</td>\n      <td>...</td>\n      <td>...</td>\n      <td>...</td>\n      <td>...</td>\n      <td>...</td>\n      <td>...</td>\n      <td>...</td>\n      <td>...</td>\n      <td>...</td>\n      <td>...</td>\n      <td>...</td>\n      <td>...</td>\n      <td>...</td>\n      <td>...</td>\n    </tr>\n    <tr>\n      <th>10723</th>\n      <td>10723</td>\n      <td>11225</td>\n      <td>Production Artist</td>\n      <td>US, TX, Austin</td>\n      <td>Design</td>\n      <td>NaN</td>\n      <td>We're an emerging technology agency, and we bu...</td>\n      <td>Your hand develops our complete digital visual...</td>\n      <td>Requirements/Qualifications:1+ years of intera...</td>\n      <td>Why work for Mutual Mobile? We craft beautiful...</td>\n      <td>...</td>\n      <td>Full-time</td>\n      <td>Associate</td>\n      <td>Bachelor's Degree</td>\n      <td>Computer Software</td>\n      <td>Design</td>\n      <td>0.208937</td>\n      <td>0</td>\n      <td>US</td>\n      <td>TX</td>\n      <td>Austin</td>\n    </tr>\n    <tr>\n      <th>10724</th>\n      <td>10724</td>\n      <td>7567</td>\n      <td>iOS Developer</td>\n      <td>US, , New York</td>\n      <td>NaN</td>\n      <td>NaN</td>\n      <td>BlueLine Grid is transforming government commu...</td>\n      <td>BlueLine Grid is transforming government commu...</td>\n      <td>BS/MS degree in Computer Science, Engineering ...</td>\n      <td>Full health, vision, dental benefitsNo vacatio...</td>\n      <td>...</td>\n      <td>Full-time</td>\n      <td>Mid-Senior level</td>\n      <td>Unspecified</td>\n      <td>NaN</td>\n      <td>Information Technology</td>\n      <td>-0.089956</td>\n      <td>0</td>\n      <td>US</td>\n      <td></td>\n      <td>New York</td>\n    </tr>\n    <tr>\n      <th>10725</th>\n      <td>10725</td>\n      <td>9098</td>\n      <td>Graduates: English Teacher Abroad</td>\n      <td>US, CA, Fremont</td>\n      <td>NaN</td>\n      <td>NaN</td>\n      <td>We help teachers get safe &amp;amp; secure jobs ab...</td>\n      <td>Play with kids, get paid for it :-)Love travel...</td>\n      <td>University degree required. TEFL / TESOL / CEL...</td>\n      <td>See job description</td>\n      <td>...</td>\n      <td>Contract</td>\n      <td>NaN</td>\n      <td>Bachelor's Degree</td>\n      <td>Education Management</td>\n      <td>NaN</td>\n      <td>0.335414</td>\n      <td>0</td>\n      <td>US</td>\n      <td>CA</td>\n      <td>Fremont</td>\n    </tr>\n    <tr>\n      <th>10726</th>\n      <td>10726</td>\n      <td>4821</td>\n      <td>Senior IT Security Lead (SIEM / IDS)</td>\n      <td>US, CO, Colorado Springs</td>\n      <td>NaN</td>\n      <td>NaN</td>\n      <td>Roland &amp;amp; Associates is a Corporate Recruit...</td>\n      <td>You will own the development of operational pl...</td>\n      <td>Job Role :  Senior IT Security Lead (SIEM / ID...</td>\n      <td>Salary: Excellent package with full benefits a...</td>\n      <td>...</td>\n      <td>Full-time</td>\n      <td>Mid-Senior level</td>\n      <td>Associate Degree</td>\n      <td>Electrical/Electronic Manufacturing</td>\n      <td>Information Technology</td>\n      <td>-0.262851</td>\n      <td>0</td>\n      <td>US</td>\n      <td>CO</td>\n      <td>Colorado Springs</td>\n    </tr>\n    <tr>\n      <th>10727</th>\n      <td>10727</td>\n      <td>8559</td>\n      <td>Front-End Web Engineer</td>\n      <td>CA, ON, Toronto</td>\n      <td>NaN</td>\n      <td>80-100</td>\n      <td>Joist is a platform for trades contractors tha...</td>\n      <td>***VISIT OUR CAREERS PAGE HERE TO LEARN MORE A...</td>\n      <td>NaN</td>\n      <td>NaN</td>\n      <td>...</td>\n      <td>Full-time</td>\n      <td>NaN</td>\n      <td>NaN</td>\n      <td>Computer Software</td>\n      <td>Information Technology</td>\n      <td>0.127035</td>\n      <td>0</td>\n      <td>CA</td>\n      <td>ON</td>\n      <td>Toronto</td>\n    </tr>\n  </tbody>\n</table>\n<p>10728 rows × 23 columns</p>\n</div>"
     },
     "execution_count": 90,
     "metadata": {},
     "output_type": "execute_result"
    }
   ],
   "source": [
    "df"
   ],
   "metadata": {
    "collapsed": false,
    "pycharm": {
     "name": "#%%\n"
    }
   }
  },
  {
   "cell_type": "code",
   "execution_count": 91,
   "outputs": [
    {
     "ename": "FileNotFoundError",
     "evalue": "[Errno 2] No such file or directory: 'inclassfakejobs/code.csv'",
     "output_type": "error",
     "traceback": [
      "\u001B[0;31m---------------------------------------------------------------------------\u001B[0m",
      "\u001B[0;31mFileNotFoundError\u001B[0m                         Traceback (most recent call last)",
      "Input \u001B[0;32mIn [91]\u001B[0m, in \u001B[0;36m<cell line: 3>\u001B[0;34m()\u001B[0m\n\u001B[1;32m      1\u001B[0m \u001B[38;5;28;01mimport\u001B[39;00m \u001B[38;5;21;01mplotly\u001B[39;00m\u001B[38;5;21;01m.\u001B[39;00m\u001B[38;5;21;01mexpress\u001B[39;00m \u001B[38;5;28;01mas\u001B[39;00m \u001B[38;5;21;01mpx\u001B[39;00m\n\u001B[1;32m      2\u001B[0m df \u001B[38;5;241m=\u001B[39m fraud_by_location(\u001B[38;5;124m'\u001B[39m\u001B[38;5;124mcountry\u001B[39m\u001B[38;5;124m'\u001B[39m)[[\u001B[38;5;124m'\u001B[39m\u001B[38;5;124mcountry\u001B[39m\u001B[38;5;124m'\u001B[39m,\u001B[38;5;124m'\u001B[39m\u001B[38;5;124mrate_of_fraud\u001B[39m\u001B[38;5;124m'\u001B[39m]]\n\u001B[0;32m----> 3\u001B[0m codes \u001B[38;5;241m=\u001B[39m \u001B[43mpd\u001B[49m\u001B[38;5;241;43m.\u001B[39;49m\u001B[43mread_csv\u001B[49m\u001B[43m(\u001B[49m\u001B[38;5;124;43m'\u001B[39;49m\u001B[38;5;124;43minclassfakejobs/code.csv\u001B[39;49m\u001B[38;5;124;43m'\u001B[39;49m\u001B[43m)\u001B[49m\n\u001B[1;32m      4\u001B[0m df \u001B[38;5;241m=\u001B[39m df\u001B[38;5;241m.\u001B[39mmerge(codes,left_on\u001B[38;5;241m=\u001B[39m\u001B[38;5;124m'\u001B[39m\u001B[38;5;124mcountry\u001B[39m\u001B[38;5;124m'\u001B[39m,right_on\u001B[38;5;241m=\u001B[39m\u001B[38;5;124m\"\u001B[39m\u001B[38;5;124mAlpha-2 code\u001B[39m\u001B[38;5;124m\"\u001B[39m,how\u001B[38;5;241m=\u001B[39m\u001B[38;5;124m'\u001B[39m\u001B[38;5;124mleft\u001B[39m\u001B[38;5;124m'\u001B[39m)\n\u001B[1;32m      5\u001B[0m df[\u001B[38;5;124m'\u001B[39m\u001B[38;5;124mcountry\u001B[39m\u001B[38;5;124m'\u001B[39m]\u001B[38;5;241m=\u001B[39mdf[\u001B[38;5;124m'\u001B[39m\u001B[38;5;124mAlpha-3 code\u001B[39m\u001B[38;5;124m'\u001B[39m]\n",
      "File \u001B[0;32m~/.conda/envs/LearningToBranch/lib/python3.8/site-packages/pandas/util/_decorators.py:311\u001B[0m, in \u001B[0;36mdeprecate_nonkeyword_arguments.<locals>.decorate.<locals>.wrapper\u001B[0;34m(*args, **kwargs)\u001B[0m\n\u001B[1;32m    305\u001B[0m \u001B[38;5;28;01mif\u001B[39;00m \u001B[38;5;28mlen\u001B[39m(args) \u001B[38;5;241m>\u001B[39m num_allow_args:\n\u001B[1;32m    306\u001B[0m     warnings\u001B[38;5;241m.\u001B[39mwarn(\n\u001B[1;32m    307\u001B[0m         msg\u001B[38;5;241m.\u001B[39mformat(arguments\u001B[38;5;241m=\u001B[39marguments),\n\u001B[1;32m    308\u001B[0m         \u001B[38;5;167;01mFutureWarning\u001B[39;00m,\n\u001B[1;32m    309\u001B[0m         stacklevel\u001B[38;5;241m=\u001B[39mstacklevel,\n\u001B[1;32m    310\u001B[0m     )\n\u001B[0;32m--> 311\u001B[0m \u001B[38;5;28;01mreturn\u001B[39;00m \u001B[43mfunc\u001B[49m\u001B[43m(\u001B[49m\u001B[38;5;241;43m*\u001B[39;49m\u001B[43margs\u001B[49m\u001B[43m,\u001B[49m\u001B[43m \u001B[49m\u001B[38;5;241;43m*\u001B[39;49m\u001B[38;5;241;43m*\u001B[39;49m\u001B[43mkwargs\u001B[49m\u001B[43m)\u001B[49m\n",
      "File \u001B[0;32m~/.conda/envs/LearningToBranch/lib/python3.8/site-packages/pandas/io/parsers/readers.py:680\u001B[0m, in \u001B[0;36mread_csv\u001B[0;34m(filepath_or_buffer, sep, delimiter, header, names, index_col, usecols, squeeze, prefix, mangle_dupe_cols, dtype, engine, converters, true_values, false_values, skipinitialspace, skiprows, skipfooter, nrows, na_values, keep_default_na, na_filter, verbose, skip_blank_lines, parse_dates, infer_datetime_format, keep_date_col, date_parser, dayfirst, cache_dates, iterator, chunksize, compression, thousands, decimal, lineterminator, quotechar, quoting, doublequote, escapechar, comment, encoding, encoding_errors, dialect, error_bad_lines, warn_bad_lines, on_bad_lines, delim_whitespace, low_memory, memory_map, float_precision, storage_options)\u001B[0m\n\u001B[1;32m    665\u001B[0m kwds_defaults \u001B[38;5;241m=\u001B[39m _refine_defaults_read(\n\u001B[1;32m    666\u001B[0m     dialect,\n\u001B[1;32m    667\u001B[0m     delimiter,\n\u001B[0;32m   (...)\u001B[0m\n\u001B[1;32m    676\u001B[0m     defaults\u001B[38;5;241m=\u001B[39m{\u001B[38;5;124m\"\u001B[39m\u001B[38;5;124mdelimiter\u001B[39m\u001B[38;5;124m\"\u001B[39m: \u001B[38;5;124m\"\u001B[39m\u001B[38;5;124m,\u001B[39m\u001B[38;5;124m\"\u001B[39m},\n\u001B[1;32m    677\u001B[0m )\n\u001B[1;32m    678\u001B[0m kwds\u001B[38;5;241m.\u001B[39mupdate(kwds_defaults)\n\u001B[0;32m--> 680\u001B[0m \u001B[38;5;28;01mreturn\u001B[39;00m \u001B[43m_read\u001B[49m\u001B[43m(\u001B[49m\u001B[43mfilepath_or_buffer\u001B[49m\u001B[43m,\u001B[49m\u001B[43m \u001B[49m\u001B[43mkwds\u001B[49m\u001B[43m)\u001B[49m\n",
      "File \u001B[0;32m~/.conda/envs/LearningToBranch/lib/python3.8/site-packages/pandas/io/parsers/readers.py:575\u001B[0m, in \u001B[0;36m_read\u001B[0;34m(filepath_or_buffer, kwds)\u001B[0m\n\u001B[1;32m    572\u001B[0m _validate_names(kwds\u001B[38;5;241m.\u001B[39mget(\u001B[38;5;124m\"\u001B[39m\u001B[38;5;124mnames\u001B[39m\u001B[38;5;124m\"\u001B[39m, \u001B[38;5;28;01mNone\u001B[39;00m))\n\u001B[1;32m    574\u001B[0m \u001B[38;5;66;03m# Create the parser.\u001B[39;00m\n\u001B[0;32m--> 575\u001B[0m parser \u001B[38;5;241m=\u001B[39m \u001B[43mTextFileReader\u001B[49m\u001B[43m(\u001B[49m\u001B[43mfilepath_or_buffer\u001B[49m\u001B[43m,\u001B[49m\u001B[43m \u001B[49m\u001B[38;5;241;43m*\u001B[39;49m\u001B[38;5;241;43m*\u001B[39;49m\u001B[43mkwds\u001B[49m\u001B[43m)\u001B[49m\n\u001B[1;32m    577\u001B[0m \u001B[38;5;28;01mif\u001B[39;00m chunksize \u001B[38;5;129;01mor\u001B[39;00m iterator:\n\u001B[1;32m    578\u001B[0m     \u001B[38;5;28;01mreturn\u001B[39;00m parser\n",
      "File \u001B[0;32m~/.conda/envs/LearningToBranch/lib/python3.8/site-packages/pandas/io/parsers/readers.py:933\u001B[0m, in \u001B[0;36mTextFileReader.__init__\u001B[0;34m(self, f, engine, **kwds)\u001B[0m\n\u001B[1;32m    930\u001B[0m     \u001B[38;5;28mself\u001B[39m\u001B[38;5;241m.\u001B[39moptions[\u001B[38;5;124m\"\u001B[39m\u001B[38;5;124mhas_index_names\u001B[39m\u001B[38;5;124m\"\u001B[39m] \u001B[38;5;241m=\u001B[39m kwds[\u001B[38;5;124m\"\u001B[39m\u001B[38;5;124mhas_index_names\u001B[39m\u001B[38;5;124m\"\u001B[39m]\n\u001B[1;32m    932\u001B[0m \u001B[38;5;28mself\u001B[39m\u001B[38;5;241m.\u001B[39mhandles: IOHandles \u001B[38;5;241m|\u001B[39m \u001B[38;5;28;01mNone\u001B[39;00m \u001B[38;5;241m=\u001B[39m \u001B[38;5;28;01mNone\u001B[39;00m\n\u001B[0;32m--> 933\u001B[0m \u001B[38;5;28mself\u001B[39m\u001B[38;5;241m.\u001B[39m_engine \u001B[38;5;241m=\u001B[39m \u001B[38;5;28;43mself\u001B[39;49m\u001B[38;5;241;43m.\u001B[39;49m\u001B[43m_make_engine\u001B[49m\u001B[43m(\u001B[49m\u001B[43mf\u001B[49m\u001B[43m,\u001B[49m\u001B[43m \u001B[49m\u001B[38;5;28;43mself\u001B[39;49m\u001B[38;5;241;43m.\u001B[39;49m\u001B[43mengine\u001B[49m\u001B[43m)\u001B[49m\n",
      "File \u001B[0;32m~/.conda/envs/LearningToBranch/lib/python3.8/site-packages/pandas/io/parsers/readers.py:1217\u001B[0m, in \u001B[0;36mTextFileReader._make_engine\u001B[0;34m(self, f, engine)\u001B[0m\n\u001B[1;32m   1213\u001B[0m     mode \u001B[38;5;241m=\u001B[39m \u001B[38;5;124m\"\u001B[39m\u001B[38;5;124mrb\u001B[39m\u001B[38;5;124m\"\u001B[39m\n\u001B[1;32m   1214\u001B[0m \u001B[38;5;66;03m# error: No overload variant of \"get_handle\" matches argument types\u001B[39;00m\n\u001B[1;32m   1215\u001B[0m \u001B[38;5;66;03m# \"Union[str, PathLike[str], ReadCsvBuffer[bytes], ReadCsvBuffer[str]]\"\u001B[39;00m\n\u001B[1;32m   1216\u001B[0m \u001B[38;5;66;03m# , \"str\", \"bool\", \"Any\", \"Any\", \"Any\", \"Any\", \"Any\"\u001B[39;00m\n\u001B[0;32m-> 1217\u001B[0m \u001B[38;5;28mself\u001B[39m\u001B[38;5;241m.\u001B[39mhandles \u001B[38;5;241m=\u001B[39m \u001B[43mget_handle\u001B[49m\u001B[43m(\u001B[49m\u001B[43m  \u001B[49m\u001B[38;5;66;43;03m# type: ignore[call-overload]\u001B[39;49;00m\n\u001B[1;32m   1218\u001B[0m \u001B[43m    \u001B[49m\u001B[43mf\u001B[49m\u001B[43m,\u001B[49m\n\u001B[1;32m   1219\u001B[0m \u001B[43m    \u001B[49m\u001B[43mmode\u001B[49m\u001B[43m,\u001B[49m\n\u001B[1;32m   1220\u001B[0m \u001B[43m    \u001B[49m\u001B[43mencoding\u001B[49m\u001B[38;5;241;43m=\u001B[39;49m\u001B[38;5;28;43mself\u001B[39;49m\u001B[38;5;241;43m.\u001B[39;49m\u001B[43moptions\u001B[49m\u001B[38;5;241;43m.\u001B[39;49m\u001B[43mget\u001B[49m\u001B[43m(\u001B[49m\u001B[38;5;124;43m\"\u001B[39;49m\u001B[38;5;124;43mencoding\u001B[39;49m\u001B[38;5;124;43m\"\u001B[39;49m\u001B[43m,\u001B[49m\u001B[43m \u001B[49m\u001B[38;5;28;43;01mNone\u001B[39;49;00m\u001B[43m)\u001B[49m\u001B[43m,\u001B[49m\n\u001B[1;32m   1221\u001B[0m \u001B[43m    \u001B[49m\u001B[43mcompression\u001B[49m\u001B[38;5;241;43m=\u001B[39;49m\u001B[38;5;28;43mself\u001B[39;49m\u001B[38;5;241;43m.\u001B[39;49m\u001B[43moptions\u001B[49m\u001B[38;5;241;43m.\u001B[39;49m\u001B[43mget\u001B[49m\u001B[43m(\u001B[49m\u001B[38;5;124;43m\"\u001B[39;49m\u001B[38;5;124;43mcompression\u001B[39;49m\u001B[38;5;124;43m\"\u001B[39;49m\u001B[43m,\u001B[49m\u001B[43m \u001B[49m\u001B[38;5;28;43;01mNone\u001B[39;49;00m\u001B[43m)\u001B[49m\u001B[43m,\u001B[49m\n\u001B[1;32m   1222\u001B[0m \u001B[43m    \u001B[49m\u001B[43mmemory_map\u001B[49m\u001B[38;5;241;43m=\u001B[39;49m\u001B[38;5;28;43mself\u001B[39;49m\u001B[38;5;241;43m.\u001B[39;49m\u001B[43moptions\u001B[49m\u001B[38;5;241;43m.\u001B[39;49m\u001B[43mget\u001B[49m\u001B[43m(\u001B[49m\u001B[38;5;124;43m\"\u001B[39;49m\u001B[38;5;124;43mmemory_map\u001B[39;49m\u001B[38;5;124;43m\"\u001B[39;49m\u001B[43m,\u001B[49m\u001B[43m \u001B[49m\u001B[38;5;28;43;01mFalse\u001B[39;49;00m\u001B[43m)\u001B[49m\u001B[43m,\u001B[49m\n\u001B[1;32m   1223\u001B[0m \u001B[43m    \u001B[49m\u001B[43mis_text\u001B[49m\u001B[38;5;241;43m=\u001B[39;49m\u001B[43mis_text\u001B[49m\u001B[43m,\u001B[49m\n\u001B[1;32m   1224\u001B[0m \u001B[43m    \u001B[49m\u001B[43merrors\u001B[49m\u001B[38;5;241;43m=\u001B[39;49m\u001B[38;5;28;43mself\u001B[39;49m\u001B[38;5;241;43m.\u001B[39;49m\u001B[43moptions\u001B[49m\u001B[38;5;241;43m.\u001B[39;49m\u001B[43mget\u001B[49m\u001B[43m(\u001B[49m\u001B[38;5;124;43m\"\u001B[39;49m\u001B[38;5;124;43mencoding_errors\u001B[39;49m\u001B[38;5;124;43m\"\u001B[39;49m\u001B[43m,\u001B[49m\u001B[43m \u001B[49m\u001B[38;5;124;43m\"\u001B[39;49m\u001B[38;5;124;43mstrict\u001B[39;49m\u001B[38;5;124;43m\"\u001B[39;49m\u001B[43m)\u001B[49m\u001B[43m,\u001B[49m\n\u001B[1;32m   1225\u001B[0m \u001B[43m    \u001B[49m\u001B[43mstorage_options\u001B[49m\u001B[38;5;241;43m=\u001B[39;49m\u001B[38;5;28;43mself\u001B[39;49m\u001B[38;5;241;43m.\u001B[39;49m\u001B[43moptions\u001B[49m\u001B[38;5;241;43m.\u001B[39;49m\u001B[43mget\u001B[49m\u001B[43m(\u001B[49m\u001B[38;5;124;43m\"\u001B[39;49m\u001B[38;5;124;43mstorage_options\u001B[39;49m\u001B[38;5;124;43m\"\u001B[39;49m\u001B[43m,\u001B[49m\u001B[43m \u001B[49m\u001B[38;5;28;43;01mNone\u001B[39;49;00m\u001B[43m)\u001B[49m\u001B[43m,\u001B[49m\n\u001B[1;32m   1226\u001B[0m \u001B[43m\u001B[49m\u001B[43m)\u001B[49m\n\u001B[1;32m   1227\u001B[0m \u001B[38;5;28;01massert\u001B[39;00m \u001B[38;5;28mself\u001B[39m\u001B[38;5;241m.\u001B[39mhandles \u001B[38;5;129;01mis\u001B[39;00m \u001B[38;5;129;01mnot\u001B[39;00m \u001B[38;5;28;01mNone\u001B[39;00m\n\u001B[1;32m   1228\u001B[0m f \u001B[38;5;241m=\u001B[39m \u001B[38;5;28mself\u001B[39m\u001B[38;5;241m.\u001B[39mhandles\u001B[38;5;241m.\u001B[39mhandle\n",
      "File \u001B[0;32m~/.conda/envs/LearningToBranch/lib/python3.8/site-packages/pandas/io/common.py:789\u001B[0m, in \u001B[0;36mget_handle\u001B[0;34m(path_or_buf, mode, encoding, compression, memory_map, is_text, errors, storage_options)\u001B[0m\n\u001B[1;32m    784\u001B[0m \u001B[38;5;28;01melif\u001B[39;00m \u001B[38;5;28misinstance\u001B[39m(handle, \u001B[38;5;28mstr\u001B[39m):\n\u001B[1;32m    785\u001B[0m     \u001B[38;5;66;03m# Check whether the filename is to be opened in binary mode.\u001B[39;00m\n\u001B[1;32m    786\u001B[0m     \u001B[38;5;66;03m# Binary mode does not support 'encoding' and 'newline'.\u001B[39;00m\n\u001B[1;32m    787\u001B[0m     \u001B[38;5;28;01mif\u001B[39;00m ioargs\u001B[38;5;241m.\u001B[39mencoding \u001B[38;5;129;01mand\u001B[39;00m \u001B[38;5;124m\"\u001B[39m\u001B[38;5;124mb\u001B[39m\u001B[38;5;124m\"\u001B[39m \u001B[38;5;129;01mnot\u001B[39;00m \u001B[38;5;129;01min\u001B[39;00m ioargs\u001B[38;5;241m.\u001B[39mmode:\n\u001B[1;32m    788\u001B[0m         \u001B[38;5;66;03m# Encoding\u001B[39;00m\n\u001B[0;32m--> 789\u001B[0m         handle \u001B[38;5;241m=\u001B[39m \u001B[38;5;28;43mopen\u001B[39;49m\u001B[43m(\u001B[49m\n\u001B[1;32m    790\u001B[0m \u001B[43m            \u001B[49m\u001B[43mhandle\u001B[49m\u001B[43m,\u001B[49m\n\u001B[1;32m    791\u001B[0m \u001B[43m            \u001B[49m\u001B[43mioargs\u001B[49m\u001B[38;5;241;43m.\u001B[39;49m\u001B[43mmode\u001B[49m\u001B[43m,\u001B[49m\n\u001B[1;32m    792\u001B[0m \u001B[43m            \u001B[49m\u001B[43mencoding\u001B[49m\u001B[38;5;241;43m=\u001B[39;49m\u001B[43mioargs\u001B[49m\u001B[38;5;241;43m.\u001B[39;49m\u001B[43mencoding\u001B[49m\u001B[43m,\u001B[49m\n\u001B[1;32m    793\u001B[0m \u001B[43m            \u001B[49m\u001B[43merrors\u001B[49m\u001B[38;5;241;43m=\u001B[39;49m\u001B[43merrors\u001B[49m\u001B[43m,\u001B[49m\n\u001B[1;32m    794\u001B[0m \u001B[43m            \u001B[49m\u001B[43mnewline\u001B[49m\u001B[38;5;241;43m=\u001B[39;49m\u001B[38;5;124;43m\"\u001B[39;49m\u001B[38;5;124;43m\"\u001B[39;49m\u001B[43m,\u001B[49m\n\u001B[1;32m    795\u001B[0m \u001B[43m        \u001B[49m\u001B[43m)\u001B[49m\n\u001B[1;32m    796\u001B[0m     \u001B[38;5;28;01melse\u001B[39;00m:\n\u001B[1;32m    797\u001B[0m         \u001B[38;5;66;03m# Binary mode\u001B[39;00m\n\u001B[1;32m    798\u001B[0m         handle \u001B[38;5;241m=\u001B[39m \u001B[38;5;28mopen\u001B[39m(handle, ioargs\u001B[38;5;241m.\u001B[39mmode)\n",
      "\u001B[0;31mFileNotFoundError\u001B[0m: [Errno 2] No such file or directory: 'inclassfakejobs/code.csv'"
     ]
    }
   ],
   "source": [
    "import plotly.express as px\n",
    "df = fraud_by_location('country')[['country','rate_of_fraud']]\n",
    "codes = pd.read_csv('inclassfakejobs/code.csv')\n",
    "df = df.merge(codes,left_on='country',right_on=\"Alpha-2 code\",how='left')\n",
    "df['country']=df['Alpha-3 code']\n",
    "df= df[['rate_of_fraud',\"country\"]]\n",
    "\n",
    "df = df.drop(df.loc[df['country']=='NoLocation'].index)\n",
    "df['rate_of_fraud']=df['rate_of_fraud']*1000\n",
    "fig = px.scatter_geo(df, locations=\"country\",\n",
    "                     hover_name=\"country\", size=\"rate_of_fraud\",\n",
    "                     projection=\"natural earth\")\n",
    "fig.show()\n",
    "\n",
    "df = fraud_by_location('country')[['country','rate_of_fraud']]\n",
    "codes = pd.read_csv('inclassfakejobs/code.csv')\n",
    "df = df.merge(codes,left_on='country',right_on=\"Alpha-2 code\",how='left')\n",
    "df['country']=df['Alpha-3 code']\n",
    "df= df[['rate_of_fraud',\"country\"]]\n",
    "df"
   ],
   "metadata": {
    "collapsed": false,
    "pycharm": {
     "name": "#%%\n"
    }
   }
  }
 ],
 "metadata": {
  "kernelspec": {
   "display_name": "Python 3",
   "language": "python",
   "name": "python3"
  },
  "language_info": {
   "codemirror_mode": {
    "name": "ipython",
    "version": 2
   },
   "file_extension": ".py",
   "mimetype": "text/x-python",
   "name": "python",
   "nbconvert_exporter": "python",
   "pygments_lexer": "ipython2",
   "version": "2.7.6"
  }
 },
 "nbformat": 4,
 "nbformat_minor": 0
}