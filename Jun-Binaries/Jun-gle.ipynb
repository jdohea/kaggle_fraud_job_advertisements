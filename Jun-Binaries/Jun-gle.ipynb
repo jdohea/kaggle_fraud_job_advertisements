{
 "cells": [
  {
   "cell_type": "code",
   "execution_count": 8,
   "id": "207742bb",
   "metadata": {},
   "outputs": [],
   "source": [
    "import numpy as np\n",
    "import pandas as pd"
   ]
  },
  {
   "cell_type": "code",
   "execution_count": 9,
   "id": "eac672ba",
   "metadata": {},
   "outputs": [
    {
     "name": "stdout",
     "output_type": "stream",
     "text": [
      "(10728, 20)\n"
     ]
    },
    {
     "data": {
      "text/plain": "          Id  job_id  telecommuting  has_company_logo  has_questions  \\\n0          0    5737              0                 0              0   \n1          1    7107              0                 1              1   \n2          2   11979              0                 0              0   \n3          3    9375              0                 1              0   \n4          4    1301              0                 0              0   \n...      ...     ...            ...               ...            ...   \n10723  10723   11225              0                 1              1   \n10724  10724    7567              0                 1              0   \n10725  10725    9098              0                 1              0   \n10726  10726    4821              0                 1              0   \n10727  10727    8559              0                 1              1   \n\n       fraudulent  \n0               0  \n1               0  \n2               0  \n3               0  \n4               0  \n...           ...  \n10723           0  \n10724           0  \n10725           0  \n10726           0  \n10727           0  \n\n[10728 rows x 6 columns]",
      "text/html": "<div>\n<style scoped>\n    .dataframe tbody tr th:only-of-type {\n        vertical-align: middle;\n    }\n\n    .dataframe tbody tr th {\n        vertical-align: top;\n    }\n\n    .dataframe thead th {\n        text-align: right;\n    }\n</style>\n<table border=\"1\" class=\"dataframe\">\n  <thead>\n    <tr style=\"text-align: right;\">\n      <th></th>\n      <th>Id</th>\n      <th>job_id</th>\n      <th>telecommuting</th>\n      <th>has_company_logo</th>\n      <th>has_questions</th>\n      <th>fraudulent</th>\n    </tr>\n  </thead>\n  <tbody>\n    <tr>\n      <th>0</th>\n      <td>0</td>\n      <td>5737</td>\n      <td>0</td>\n      <td>0</td>\n      <td>0</td>\n      <td>0</td>\n    </tr>\n    <tr>\n      <th>1</th>\n      <td>1</td>\n      <td>7107</td>\n      <td>0</td>\n      <td>1</td>\n      <td>1</td>\n      <td>0</td>\n    </tr>\n    <tr>\n      <th>2</th>\n      <td>2</td>\n      <td>11979</td>\n      <td>0</td>\n      <td>0</td>\n      <td>0</td>\n      <td>0</td>\n    </tr>\n    <tr>\n      <th>3</th>\n      <td>3</td>\n      <td>9375</td>\n      <td>0</td>\n      <td>1</td>\n      <td>0</td>\n      <td>0</td>\n    </tr>\n    <tr>\n      <th>4</th>\n      <td>4</td>\n      <td>1301</td>\n      <td>0</td>\n      <td>0</td>\n      <td>0</td>\n      <td>0</td>\n    </tr>\n    <tr>\n      <th>...</th>\n      <td>...</td>\n      <td>...</td>\n      <td>...</td>\n      <td>...</td>\n      <td>...</td>\n      <td>...</td>\n    </tr>\n    <tr>\n      <th>10723</th>\n      <td>10723</td>\n      <td>11225</td>\n      <td>0</td>\n      <td>1</td>\n      <td>1</td>\n      <td>0</td>\n    </tr>\n    <tr>\n      <th>10724</th>\n      <td>10724</td>\n      <td>7567</td>\n      <td>0</td>\n      <td>1</td>\n      <td>0</td>\n      <td>0</td>\n    </tr>\n    <tr>\n      <th>10725</th>\n      <td>10725</td>\n      <td>9098</td>\n      <td>0</td>\n      <td>1</td>\n      <td>0</td>\n      <td>0</td>\n    </tr>\n    <tr>\n      <th>10726</th>\n      <td>10726</td>\n      <td>4821</td>\n      <td>0</td>\n      <td>1</td>\n      <td>0</td>\n      <td>0</td>\n    </tr>\n    <tr>\n      <th>10727</th>\n      <td>10727</td>\n      <td>8559</td>\n      <td>0</td>\n      <td>1</td>\n      <td>1</td>\n      <td>0</td>\n    </tr>\n  </tbody>\n</table>\n<p>10728 rows × 6 columns</p>\n</div>"
     },
     "execution_count": 9,
     "metadata": {},
     "output_type": "execute_result"
    }
   ],
   "source": [
    "df = pd.read_csv('../inclassfakejobs/train.csv')\n",
    "drop_columns =  ['title', 'location', 'department', 'salary_range',\n",
    "       'company_profile', 'description', 'requirements', 'benefits', 'employment_type',\n",
    "       'required_experience', 'required_education', 'industry', 'function',\n",
    "       'required_doughnuts_comsumption']\n",
    "print(df.shape)\n",
    "df = df.drop(drop_columns, axis=1)\n",
    "df"
   ]
  },
  {
   "cell_type": "code",
   "execution_count": 10,
   "id": "b744578e",
   "metadata": {},
   "outputs": [
    {
     "name": "stdout",
     "output_type": "stream",
     "text": [
      "4.604772557792692\n",
      "amount of telecommuting: 459\n",
      "amount of has_company_logo: 8561\n",
      "amount of has_questions: 5241\n",
      "amount of telecommuting:  36.0 out of 459 | percentatge: 7.8431372549019605\n",
      "amount of has_company_logo:  170.0 out of 8561 | percentatge: 1.9857493283494918\n",
      "amount of has_questions:  137.0 out of 5241 | percentatge: 2.6140049608853273\n"
     ]
    }
   ],
   "source": [
    "fraud = df['fraudulent'].sum()/df['fraudulent'].count()*100\n",
    "print(fraud)\n",
    "\n",
    "print('amount of telecommuting: ' + str(df['telecommuting'].sum()))\n",
    "print('amount of has_company_logo: ' + str(df['has_company_logo'].sum()))\n",
    "print('amount of has_questions: ' + str(df['has_questions'].sum()))\n",
    "\n",
    "def percentages(a):\n",
    "    \"\"\"return percentages from the fraudulent counts out of the total counts\n",
    "    \"\"\"\n",
    "    print('amount of '+ a  +':  ' + str(df[a].where(df['fraudulent']>0).sum()) + ' out of ' \n",
    "      +str(df[a].sum()) + ' | percentatge: ' + str(df[a].where(df['fraudulent']>0).sum()*100./df[a].sum()))\n",
    "\n",
    "percentages('telecommuting')\n",
    "percentages('has_company_logo')\n",
    "percentages('has_questions')"
   ]
  },
  {
   "cell_type": "code",
   "execution_count": 11,
   "id": "bc27c1a6",
   "metadata": {},
   "outputs": [],
   "source": [
    "df['tel_logo'] = df['telecommuting'] * df['has_company_logo']\n",
    "df['tel_ques'] = df['telecommuting'] * df['has_questions']\n",
    "df['logo_ques'] = df['has_company_logo'] * df['has_questions']"
   ]
  },
  {
   "cell_type": "code",
   "execution_count": 12,
   "id": "151b0070",
   "metadata": {},
   "outputs": [
    {
     "name": "stdout",
     "output_type": "stream",
     "text": [
      "amount of tel_logo:  13.0 out of 352 | percentatge: 3.6931818181818183\n",
      "amount of tel_ques:  6.0 out of 239 | percentatge: 2.510460251046025\n",
      "amount of logo_ques:  87.0 out of 4674 | percentatge: 1.8613607188703467\n"
     ]
    }
   ],
   "source": [
    "percentages('tel_logo')\n",
    "percentages('tel_ques')\n",
    "percentages('logo_ques')"
   ]
  },
  {
   "cell_type": "code",
   "execution_count": 13,
   "id": "214542eb",
   "metadata": {},
   "outputs": [
    {
     "data": {
      "text/plain": "                        Id    job_id  telecommuting  has_company_logo  \\\nId                1.000000 -0.001046      -0.009906          0.004134   \njob_id           -0.001046  1.000000      -0.002566         -0.004621   \ntelecommuting    -0.009906 -0.002566       1.000000         -0.016388   \nhas_company_logo  0.004134 -0.004621      -0.016388          1.000000   \nhas_questions    -0.003513 -0.081320       0.013603          0.228356   \nfraudulent        0.011499  0.068504       0.032666         -0.248373   \ntel_logo         -0.002108  0.002331       0.871192          0.092667   \ntel_ques          0.000736 -0.009189       0.713986          0.027178   \nlogo_ques         0.006087 -0.042236       0.007452          0.442069   \n\n                  has_questions  fraudulent  tel_logo  tel_ques  logo_ques  \nId                    -0.003513    0.011499 -0.002108  0.000736   0.006087  \njob_id                -0.081320    0.068504  0.002331 -0.009189  -0.042236  \ntelecommuting          0.013603    0.032666  0.871192  0.713986   0.007452  \nhas_company_logo       0.228356   -0.248373  0.092667  0.027178   0.442069  \nhas_questions          1.000000   -0.092831  0.037722  0.154452   0.899049  \nfraudulent            -0.092831    1.000000 -0.008011 -0.015084  -0.115013  \ntel_logo               0.037722   -0.008011  1.000000  0.709642   0.057660  \ntel_ques               0.154452   -0.015084  0.709642  1.000000   0.132308  \nlogo_ques              0.899049   -0.115013  0.057660  0.132308   1.000000  ",
      "text/html": "<div>\n<style scoped>\n    .dataframe tbody tr th:only-of-type {\n        vertical-align: middle;\n    }\n\n    .dataframe tbody tr th {\n        vertical-align: top;\n    }\n\n    .dataframe thead th {\n        text-align: right;\n    }\n</style>\n<table border=\"1\" class=\"dataframe\">\n  <thead>\n    <tr style=\"text-align: right;\">\n      <th></th>\n      <th>Id</th>\n      <th>job_id</th>\n      <th>telecommuting</th>\n      <th>has_company_logo</th>\n      <th>has_questions</th>\n      <th>fraudulent</th>\n      <th>tel_logo</th>\n      <th>tel_ques</th>\n      <th>logo_ques</th>\n    </tr>\n  </thead>\n  <tbody>\n    <tr>\n      <th>Id</th>\n      <td>1.000000</td>\n      <td>-0.001046</td>\n      <td>-0.009906</td>\n      <td>0.004134</td>\n      <td>-0.003513</td>\n      <td>0.011499</td>\n      <td>-0.002108</td>\n      <td>0.000736</td>\n      <td>0.006087</td>\n    </tr>\n    <tr>\n      <th>job_id</th>\n      <td>-0.001046</td>\n      <td>1.000000</td>\n      <td>-0.002566</td>\n      <td>-0.004621</td>\n      <td>-0.081320</td>\n      <td>0.068504</td>\n      <td>0.002331</td>\n      <td>-0.009189</td>\n      <td>-0.042236</td>\n    </tr>\n    <tr>\n      <th>telecommuting</th>\n      <td>-0.009906</td>\n      <td>-0.002566</td>\n      <td>1.000000</td>\n      <td>-0.016388</td>\n      <td>0.013603</td>\n      <td>0.032666</td>\n      <td>0.871192</td>\n      <td>0.713986</td>\n      <td>0.007452</td>\n    </tr>\n    <tr>\n      <th>has_company_logo</th>\n      <td>0.004134</td>\n      <td>-0.004621</td>\n      <td>-0.016388</td>\n      <td>1.000000</td>\n      <td>0.228356</td>\n      <td>-0.248373</td>\n      <td>0.092667</td>\n      <td>0.027178</td>\n      <td>0.442069</td>\n    </tr>\n    <tr>\n      <th>has_questions</th>\n      <td>-0.003513</td>\n      <td>-0.081320</td>\n      <td>0.013603</td>\n      <td>0.228356</td>\n      <td>1.000000</td>\n      <td>-0.092831</td>\n      <td>0.037722</td>\n      <td>0.154452</td>\n      <td>0.899049</td>\n    </tr>\n    <tr>\n      <th>fraudulent</th>\n      <td>0.011499</td>\n      <td>0.068504</td>\n      <td>0.032666</td>\n      <td>-0.248373</td>\n      <td>-0.092831</td>\n      <td>1.000000</td>\n      <td>-0.008011</td>\n      <td>-0.015084</td>\n      <td>-0.115013</td>\n    </tr>\n    <tr>\n      <th>tel_logo</th>\n      <td>-0.002108</td>\n      <td>0.002331</td>\n      <td>0.871192</td>\n      <td>0.092667</td>\n      <td>0.037722</td>\n      <td>-0.008011</td>\n      <td>1.000000</td>\n      <td>0.709642</td>\n      <td>0.057660</td>\n    </tr>\n    <tr>\n      <th>tel_ques</th>\n      <td>0.000736</td>\n      <td>-0.009189</td>\n      <td>0.713986</td>\n      <td>0.027178</td>\n      <td>0.154452</td>\n      <td>-0.015084</td>\n      <td>0.709642</td>\n      <td>1.000000</td>\n      <td>0.132308</td>\n    </tr>\n    <tr>\n      <th>logo_ques</th>\n      <td>0.006087</td>\n      <td>-0.042236</td>\n      <td>0.007452</td>\n      <td>0.442069</td>\n      <td>0.899049</td>\n      <td>-0.115013</td>\n      <td>0.057660</td>\n      <td>0.132308</td>\n      <td>1.000000</td>\n    </tr>\n  </tbody>\n</table>\n</div>"
     },
     "execution_count": 13,
     "metadata": {},
     "output_type": "execute_result"
    },
    {
     "data": {
      "text/plain": "<Figure size 432x288 with 2 Axes>",
      "image/png": "[encoded data removed]"
     },
     "metadata": {
      "needs_background": "light"
     },
     "output_type": "display_data"
    }
   ],
   "source": [
    "#discuss this monday \n",
    "import seaborn as sns\n",
    "sns.heatmap(df.corr())\n",
    "df.corr()\n"
   ]
  },
  {
   "cell_type": "markdown",
   "id": "cff4dfc2",
   "metadata": {},
   "source": [
    "# basically compare correlations between all features and drop those with less correlations accordingly. basically for these 3 features, take either has_questions of has_company logo and drop the other 2"
   ]
  },
  {
   "cell_type": "code",
   "execution_count": 15,
   "id": "6ce8f177",
   "metadata": {},
   "outputs": [
    {
     "data": {
      "text/plain": "       has_company_logo  fraudulent\n0                     0           0\n1                     1           0\n2                     0           0\n3                     1           0\n4                     0           0\n...                 ...         ...\n10723                 1           0\n10724                 1           0\n10725                 1           0\n10726                 1           0\n10727                 1           0\n\n[10728 rows x 2 columns]",
      "text/html": "<div>\n<style scoped>\n    .dataframe tbody tr th:only-of-type {\n        vertical-align: middle;\n    }\n\n    .dataframe tbody tr th {\n        vertical-align: top;\n    }\n\n    .dataframe thead th {\n        text-align: right;\n    }\n</style>\n<table border=\"1\" class=\"dataframe\">\n  <thead>\n    <tr style=\"text-align: right;\">\n      <th></th>\n      <th>has_company_logo</th>\n      <th>fraudulent</th>\n    </tr>\n  </thead>\n  <tbody>\n    <tr>\n      <th>0</th>\n      <td>0</td>\n      <td>0</td>\n    </tr>\n    <tr>\n      <th>1</th>\n      <td>1</td>\n      <td>0</td>\n    </tr>\n    <tr>\n      <th>2</th>\n      <td>0</td>\n      <td>0</td>\n    </tr>\n    <tr>\n      <th>3</th>\n      <td>1</td>\n      <td>0</td>\n    </tr>\n    <tr>\n      <th>4</th>\n      <td>0</td>\n      <td>0</td>\n    </tr>\n    <tr>\n      <th>...</th>\n      <td>...</td>\n      <td>...</td>\n    </tr>\n    <tr>\n      <th>10723</th>\n      <td>1</td>\n      <td>0</td>\n    </tr>\n    <tr>\n      <th>10724</th>\n      <td>1</td>\n      <td>0</td>\n    </tr>\n    <tr>\n      <th>10725</th>\n      <td>1</td>\n      <td>0</td>\n    </tr>\n    <tr>\n      <th>10726</th>\n      <td>1</td>\n      <td>0</td>\n    </tr>\n    <tr>\n      <th>10727</th>\n      <td>1</td>\n      <td>0</td>\n    </tr>\n  </tbody>\n</table>\n<p>10728 rows × 2 columns</p>\n</div>"
     },
     "execution_count": 15,
     "metadata": {},
     "output_type": "execute_result"
    }
   ],
   "source": [
    "from pathlib import Path\n",
    "df_train = pd.read_csv('../inclassfakejobs/train.csv')\n",
    "df_test = pd.read_csv('../inclassfakejobs/test.csv')\n",
    "drop_columns_test =  ['Id', 'job_id','title', 'location', 'department', 'salary_range',\n",
    "       'company_profile', 'description', 'requirements', 'benefits', 'employment_type','telecommuting','has_questions',\n",
    "       'required_experience', 'required_education', 'industry', 'function','doughnuts_comsumption']\n",
    "drop_columns_train =  ['Id', 'job_id','title', 'location', 'department', 'salary_range',\n",
    "       'company_profile', 'description', 'requirements', 'benefits', 'employment_type','telecommuting','has_questions','required_doughnuts_comsumption',\n",
    "       'required_experience', 'required_education', 'industry', 'function']\n",
    "df_train = df_train.drop(drop_columns_train, axis=1)\n",
    "df_test = df_test.drop(drop_columns_test, axis=1)\n",
    "\n",
    "\n",
    "df_train.to_csv('jun_train1.csv') \n",
    "df_test.to_csv('jun_test1.csv')\n",
    "\n",
    "df_train"
   ]
  },
  {
   "cell_type": "code",
   "execution_count": 14,
   "id": "ba925956",
   "metadata": {},
   "outputs": [],
   "source": []
  },
  {
   "cell_type": "code",
   "execution_count": 14,
   "id": "6b22fa15",
   "metadata": {},
   "outputs": [],
   "source": []
  }
 ],
 "metadata": {
  "kernelspec": {
   "display_name": "Python 3.9.12 ('base')",
   "language": "python",
   "name": "python3"
  },
  "language_info": {
   "codemirror_mode": {
    "name": "ipython",
    "version": 3
   },
   "file_extension": ".py",
   "mimetype": "text/x-python",
   "name": "python",
   "nbconvert_exporter": "python",
   "pygments_lexer": "ipython3",
   "version": "3.9.12"
  },
  "vscode": {
   "interpreter": {
    "hash": "fb23312da3b36097e84dc8d598df6192d46804d27ac7436686156740d62c8918"
   }
  }
 },
 "nbformat": 4,
 "nbformat_minor": 5
}