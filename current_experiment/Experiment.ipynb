{
 "cells": [
  {
   "cell_type": "code",
   "execution_count": 59,
   "metadata": {},
   "outputs": [],
   "source": [
    "# !pip install imbalanced-learn\n",
    "# !pip install sdv\n",
    "from sklearn.feature_selection import SelectFromModel\n",
    "from imblearn.over_sampling import SMOTE\n",
    "from imblearn.under_sampling import RandomUnderSampler\n",
    "from imblearn.pipeline import Pipeline\n",
    "from sdv.tabular import GaussianCopula\n",
    "import pandas as pd\n",
    "import numpy as np\n",
    "from sklearn.model_selection import StratifiedKFold\n",
    "from sklearn.ensemble import RandomForestClassifier\n",
    "from sklearn.neighbors import KNeighborsClassifier\n",
    "from sklearn.linear_model import LinearRegression\n",
    "from sklearn.linear_model import LogisticRegression\n",
    "from sklearn import svm\n",
    "from sklearn.neural_network import MLPClassifier\n",
    "from sklearn.metrics import f1_score\n",
    "from sklearn.decomposition import PCA\n",
    "from sklearn.ensemble import GradientBoostingClassifier\n",
    "import os\n",
    "from imblearn.over_sampling import SMOTE\n",
    "from sklearn.feature_selection import SelectKBest\n",
    "from sklearn.feature_selection import chi2\n",
    "from sklearn.ensemble import ExtraTreesClassifier\n",
    "#regularization\n"
   ]
  },
  {
   "cell_type": "code",
   "execution_count": 63,
   "metadata": {
    "pycharm": {
     "name": "#%%\n"
    }
   },
   "outputs": [],
   "source": [
    "def load_data(load_train =True):\n",
    "    if load_train:\n",
    "        has_fraudulent = False\n",
    "    else:\n",
    "        has_fraudulent=True\n",
    "    first_file = True\n",
    "    if load_train:\n",
    "        directory = 'train'\n",
    "    else:\n",
    "        directory = 'test'\n",
    "    for filename in os.listdir(directory):\n",
    "        if first_file:\n",
    "            df = pd.read_csv(os.path.join(directory, filename),index_col=0)\n",
    "            first_file = False\n",
    "            if df.columns.__contains__('fraudulent'):\n",
    "                has_fraudulent = True\n",
    "        else:\n",
    "            df2 = pd.read_csv(os.path.join(directory, filename),index_col=0)\n",
    "            if df2.columns.__contains__('fraudulent') :\n",
    "                if has_fraudulent==True:\n",
    "                    df2.pop('fraudulent')\n",
    "                else:\n",
    "                    has_fraudulent=True\n",
    "            df = pd.merge(df, df2, left_index=True, right_index=True)\n",
    "    col = df.columns\n",
    "    col = list(col)\n",
    "    col.sort()\n",
    "    df = df[col]\n",
    "    print(df.shape)\n",
    "    return df\n"
   ]
  },
  {
   "cell_type": "code",
   "execution_count": 64,
   "outputs": [
    {
     "name": "stdout",
     "output_type": "stream",
     "text": [
      "(10728, 20040)\n"
     ]
    }
   ],
   "source": [
    "X = load_data()\n",
    "y = X.pop('fraudulent')"
   ],
   "metadata": {
    "collapsed": false,
    "pycharm": {
     "name": "#%%\n"
    }
   }
  },
  {
   "cell_type": "code",
   "execution_count": 69,
   "metadata": {
    "pycharm": {
     "name": "#%%\n"
    }
   },
   "outputs": [
    {
     "name": "stdout",
     "output_type": "stream",
     "text": [
      "<class 'sklearn.ensemble._forest.RandomForestClassifier'>\n",
      "0.7734939759036144\n",
      "<class 'sklearn.ensemble._gb.GradientBoostingClassifier'>\n",
      "0.7803790412486066\n",
      "<class 'sklearn.ensemble._gb.GradientBoostingClassifier'>\n",
      "0.7813540510543839\n"
     ]
    }
   ],
   "source": [
    "import warnings\n",
    "warnings.filterwarnings('ignore')\n",
    "\n",
    "models = [\n",
    "    # KNeighborsClassifier(n_neighbors=1),\n",
    "    # KNeighborsClassifier(n_neighbors=3),\n",
    "    # KNeighborsClassifier(n_neighbors=5),\n",
    "    # svm.SVC(max_iter=99999, C=1000),\n",
    "    # svm.SVC(max_iter=99999, C=5),\n",
    "    # LogisticRegression(random_state=0)\n",
    "    # RandomForestClassifier(max_depth=100, random_state=0),\n",
    "    RandomForestClassifier(max_depth=1000, random_state=0),\n",
    "    GradientBoostingClassifier(n_estimators=1000, learning_rate=0.1, max_depth=5, random_state=0),\n",
    "    GradientBoostingClassifier(n_estimators=1000, learning_rate=0.1, random_state=0),\n",
    "    # GradientBoostingClassifier(n_estimators=10000, learning_rate=0.1, max_depth=5, n_iter_no_change=2000, random_state=0),\n",
    "    # MLPClassifier(hidden_layer_sizes=(1000,1000,100,60))\n",
    "]\n",
    "skf = StratifiedKFold(n_splits=2)\n",
    "best_model = None\n",
    "best_score = 0\n",
    "for model in models:\n",
    "    y_pred_all, y_test_all = pd.DataFrame(),pd.DataFrame()\n",
    "    for train_index, test_index in skf.split(X, y):\n",
    "        X_train, X_test = X.iloc[train_index], X.iloc[test_index]\n",
    "        y_train, y_test = y[train_index], y[test_index]\n",
    "\n",
    "\n",
    "        ##feature selection\n",
    "        clf = ExtraTreesClassifier(n_estimators=1000)\n",
    "        clf = clf.fit(X_train, y_train)\n",
    "        selector = SelectFromModel(estimator=clf,prefit=True,max_features=200)\n",
    "        X_train = selector.transform(X_train)\n",
    "        X_test=selector.transform(X_test)\n",
    "        X_train,X_test = pd.DataFrame(X_train), pd.DataFrame(X_test)\n",
    "        integers = X_train.columns\n",
    "        stringed = map(str,integers)\n",
    "        X_train.columns = stringed\n",
    "\n",
    "\n",
    "        model.fit(X_train,y_train)\n",
    "        y_pred = model.predict(X_test)\n",
    "        y_pred_all = pd.concat([y_pred_all,pd.DataFrame(y_pred)],ignore_index=True)\n",
    "        y_test_all =pd.concat( [y_test_all,pd.DataFrame(y_test)],ignore_index=True)\n",
    "    print(model.__class__)\n",
    "    score = f1_score(y_test_all, y_pred_all)\n",
    "    if score > best_score:\n",
    "        best_score = score\n",
    "        best_model = model\n",
    "    print(score)\n",
    "\n"
   ]
  },
  {
   "cell_type": "code",
   "execution_count": null,
   "outputs": [],
   "source": [],
   "metadata": {
    "collapsed": false,
    "pycharm": {
     "name": "#%%\n"
    }
   }
  },
  {
   "cell_type": "code",
   "execution_count": null,
   "metadata": {
    "pycharm": {
     "name": "#%%\n"
    }
   },
   "outputs": [],
   "source": [
    "print('best model:',best_model.__class__)\n",
    "print('With score:', best_score)\n",
    "print('150 features:GradientBoostingClassifier(n_estimators=1000, learning_rate=0.1, random_state=0) ')"
   ]
  },
  {
   "cell_type": "code",
   "execution_count": 39,
   "outputs": [
    {
     "data": {
      "text/plain": "       Associate_Degree_education  Associate_experience  \\\n0                               0                     0   \n1                               0                     0   \n2                               0                     0   \n3                               0                     1   \n4                               0                     0   \n...                           ...                   ...   \n10723                           0                     1   \n10724                           0                     0   \n10725                           0                     0   \n10726                           1                     0   \n10727                           0                     0   \n\n       Bachelor's_Degree_education  Certification_education  \\\n0                                0                        0   \n1                                1                        0   \n2                                1                        0   \n3                                0                        0   \n4                                0                        0   \n...                            ...                      ...   \n10723                            1                        0   \n10724                            0                        0   \n10725                            1                        0   \n10726                            0                        0   \n10727                            0                        0   \n\n       College_Coursework_education  Contract_employment  Director_experience  \\\n0                                 0                    0                    0   \n1                                 0                    1                    0   \n2                                 0                    0                    0   \n3                                 0                    0                    0   \n4                                 0                    0                    0   \n...                             ...                  ...                  ...   \n10723                             0                    0                    0   \n10724                             0                    0                    0   \n10725                             0                    1                    0   \n10726                             0                    0                    0   \n10727                             0                    0                    0   \n\n       Doctorate_education  Entry_level_experience  Executive_experience  ...  \\\n0                        0                       1                     0  ...   \n1                        0                       0                     0  ...   \n2                        0                       0                     0  ...   \n3                        0                       0                     0  ...   \n4                        0                       0                     0  ...   \n...                    ...                     ...                   ...  ...   \n10723                    0                       0                     0  ...   \n10724                    0                       0                     0  ...   \n10725                    0                       0                     0  ...   \n10726                    0                       0                     0  ...   \n10727                    0                       0                     0  ...   \n\n       title_yorks  title_yorkshire  title_young  title_youth  title_yr  \\\n0                0                0            0            0         0   \n1                0                0            0            0         0   \n2                0                0            0            0         0   \n3                0                0            0            0         0   \n4                0                0            0            0         0   \n...            ...              ...          ...          ...       ...   \n10723            0                0            0            0         0   \n10724            0                0            0            0         0   \n10725            0                0            0            0         0   \n10726            0                0            0            0         0   \n10727            0                0            0            0         0   \n\n       title_yrs  title_zambia  title_zealand  title_zend  title_zoekt  \n0              0             0              0           0            0  \n1              0             0              0           0            0  \n2              0             0              0           0            0  \n3              0             0              0           0            0  \n4              0             0              0           0            0  \n...          ...           ...            ...         ...          ...  \n10723          0             0              0           0            0  \n10724          0             0              0           0            0  \n10725          0             0              0           0            0  \n10726          0             0              0           0            0  \n10727          0             0              0           0            0  \n\n[10728 rows x 10047 columns]",
      "text/html": "<div>\n<style scoped>\n    .dataframe tbody tr th:only-of-type {\n        vertical-align: middle;\n    }\n\n    .dataframe tbody tr th {\n        vertical-align: top;\n    }\n\n    .dataframe thead th {\n        text-align: right;\n    }\n</style>\n<table border=\"1\" class=\"dataframe\">\n  <thead>\n    <tr style=\"text-align: right;\">\n      <th></th>\n      <th>Associate_Degree_education</th>\n      <th>Associate_experience</th>\n      <th>Bachelor's_Degree_education</th>\n      <th>Certification_education</th>\n      <th>College_Coursework_education</th>\n      <th>Contract_employment</th>\n      <th>Director_experience</th>\n      <th>Doctorate_education</th>\n      <th>Entry_level_experience</th>\n      <th>Executive_experience</th>\n      <th>...</th>\n      <th>title_yorks</th>\n      <th>title_yorkshire</th>\n      <th>title_young</th>\n      <th>title_youth</th>\n      <th>title_yr</th>\n      <th>title_yrs</th>\n      <th>title_zambia</th>\n      <th>title_zealand</th>\n      <th>title_zend</th>\n      <th>title_zoekt</th>\n    </tr>\n  </thead>\n  <tbody>\n    <tr>\n      <th>0</th>\n      <td>0</td>\n      <td>0</td>\n      <td>0</td>\n      <td>0</td>\n      <td>0</td>\n      <td>0</td>\n      <td>0</td>\n      <td>0</td>\n      <td>1</td>\n      <td>0</td>\n      <td>...</td>\n      <td>0</td>\n      <td>0</td>\n      <td>0</td>\n      <td>0</td>\n      <td>0</td>\n      <td>0</td>\n      <td>0</td>\n      <td>0</td>\n      <td>0</td>\n      <td>0</td>\n    </tr>\n    <tr>\n      <th>1</th>\n      <td>0</td>\n      <td>0</td>\n      <td>1</td>\n      <td>0</td>\n      <td>0</td>\n      <td>1</td>\n      <td>0</td>\n      <td>0</td>\n      <td>0</td>\n      <td>0</td>\n      <td>...</td>\n      <td>0</td>\n      <td>0</td>\n      <td>0</td>\n      <td>0</td>\n      <td>0</td>\n      <td>0</td>\n      <td>0</td>\n      <td>0</td>\n      <td>0</td>\n      <td>0</td>\n    </tr>\n    <tr>\n      <th>2</th>\n      <td>0</td>\n      <td>0</td>\n      <td>1</td>\n      <td>0</td>\n      <td>0</td>\n      <td>0</td>\n      <td>0</td>\n      <td>0</td>\n      <td>0</td>\n      <td>0</td>\n      <td>...</td>\n      <td>0</td>\n      <td>0</td>\n      <td>0</td>\n      <td>0</td>\n      <td>0</td>\n      <td>0</td>\n      <td>0</td>\n      <td>0</td>\n      <td>0</td>\n      <td>0</td>\n    </tr>\n    <tr>\n      <th>3</th>\n      <td>0</td>\n      <td>1</td>\n      <td>0</td>\n      <td>0</td>\n      <td>0</td>\n      <td>0</td>\n      <td>0</td>\n      <td>0</td>\n      <td>0</td>\n      <td>0</td>\n      <td>...</td>\n      <td>0</td>\n      <td>0</td>\n      <td>0</td>\n      <td>0</td>\n      <td>0</td>\n      <td>0</td>\n      <td>0</td>\n      <td>0</td>\n      <td>0</td>\n      <td>0</td>\n    </tr>\n    <tr>\n      <th>4</th>\n      <td>0</td>\n      <td>0</td>\n      <td>0</td>\n      <td>0</td>\n      <td>0</td>\n      <td>0</td>\n      <td>0</td>\n      <td>0</td>\n      <td>0</td>\n      <td>0</td>\n      <td>...</td>\n      <td>0</td>\n      <td>0</td>\n      <td>0</td>\n      <td>0</td>\n      <td>0</td>\n      <td>0</td>\n      <td>0</td>\n      <td>0</td>\n      <td>0</td>\n      <td>0</td>\n    </tr>\n    <tr>\n      <th>...</th>\n      <td>...</td>\n      <td>...</td>\n      <td>...</td>\n      <td>...</td>\n      <td>...</td>\n      <td>...</td>\n      <td>...</td>\n      <td>...</td>\n      <td>...</td>\n      <td>...</td>\n      <td>...</td>\n      <td>...</td>\n      <td>...</td>\n      <td>...</td>\n      <td>...</td>\n      <td>...</td>\n      <td>...</td>\n      <td>...</td>\n      <td>...</td>\n      <td>...</td>\n      <td>...</td>\n    </tr>\n    <tr>\n      <th>10723</th>\n      <td>0</td>\n      <td>1</td>\n      <td>1</td>\n      <td>0</td>\n      <td>0</td>\n      <td>0</td>\n      <td>0</td>\n      <td>0</td>\n      <td>0</td>\n      <td>0</td>\n      <td>...</td>\n      <td>0</td>\n      <td>0</td>\n      <td>0</td>\n      <td>0</td>\n      <td>0</td>\n      <td>0</td>\n      <td>0</td>\n      <td>0</td>\n      <td>0</td>\n      <td>0</td>\n    </tr>\n    <tr>\n      <th>10724</th>\n      <td>0</td>\n      <td>0</td>\n      <td>0</td>\n      <td>0</td>\n      <td>0</td>\n      <td>0</td>\n      <td>0</td>\n      <td>0</td>\n      <td>0</td>\n      <td>0</td>\n      <td>...</td>\n      <td>0</td>\n      <td>0</td>\n      <td>0</td>\n      <td>0</td>\n      <td>0</td>\n      <td>0</td>\n      <td>0</td>\n      <td>0</td>\n      <td>0</td>\n      <td>0</td>\n    </tr>\n    <tr>\n      <th>10725</th>\n      <td>0</td>\n      <td>0</td>\n      <td>1</td>\n      <td>0</td>\n      <td>0</td>\n      <td>1</td>\n      <td>0</td>\n      <td>0</td>\n      <td>0</td>\n      <td>0</td>\n      <td>...</td>\n      <td>0</td>\n      <td>0</td>\n      <td>0</td>\n      <td>0</td>\n      <td>0</td>\n      <td>0</td>\n      <td>0</td>\n      <td>0</td>\n      <td>0</td>\n      <td>0</td>\n    </tr>\n    <tr>\n      <th>10726</th>\n      <td>1</td>\n      <td>0</td>\n      <td>0</td>\n      <td>0</td>\n      <td>0</td>\n      <td>0</td>\n      <td>0</td>\n      <td>0</td>\n      <td>0</td>\n      <td>0</td>\n      <td>...</td>\n      <td>0</td>\n      <td>0</td>\n      <td>0</td>\n      <td>0</td>\n      <td>0</td>\n      <td>0</td>\n      <td>0</td>\n      <td>0</td>\n      <td>0</td>\n      <td>0</td>\n    </tr>\n    <tr>\n      <th>10727</th>\n      <td>0</td>\n      <td>0</td>\n      <td>0</td>\n      <td>0</td>\n      <td>0</td>\n      <td>0</td>\n      <td>0</td>\n      <td>0</td>\n      <td>0</td>\n      <td>0</td>\n      <td>...</td>\n      <td>0</td>\n      <td>0</td>\n      <td>0</td>\n      <td>0</td>\n      <td>0</td>\n      <td>0</td>\n      <td>0</td>\n      <td>0</td>\n      <td>0</td>\n      <td>0</td>\n    </tr>\n  </tbody>\n</table>\n<p>10728 rows × 10047 columns</p>\n</div>"
     },
     "execution_count": 39,
     "metadata": {},
     "output_type": "execute_result"
    }
   ],
   "source": [
    "X"
   ],
   "metadata": {
    "collapsed": false,
    "pycharm": {
     "name": "#%%\n"
    }
   }
  },
  {
   "cell_type": "code",
   "execution_count": 40,
   "metadata": {
    "pycharm": {
     "name": "#%%\n"
    }
   },
   "outputs": [
    {
     "name": "stdout",
     "output_type": "stream",
     "text": [
      "(7152, 10047)\n"
     ]
    },
    {
     "data": {
      "text/plain": "      Category\nId            \n0            0\n1            1\n2            0\n3            0\n4            0\n...        ...\n7147         0\n7148         0\n7149         0\n7150         0\n7151         0\n\n[7152 rows x 1 columns]",
      "text/html": "<div>\n<style scoped>\n    .dataframe tbody tr th:only-of-type {\n        vertical-align: middle;\n    }\n\n    .dataframe tbody tr th {\n        vertical-align: top;\n    }\n\n    .dataframe thead th {\n        text-align: right;\n    }\n</style>\n<table border=\"1\" class=\"dataframe\">\n  <thead>\n    <tr style=\"text-align: right;\">\n      <th></th>\n      <th>Category</th>\n    </tr>\n    <tr>\n      <th>Id</th>\n      <th></th>\n    </tr>\n  </thead>\n  <tbody>\n    <tr>\n      <th>0</th>\n      <td>0</td>\n    </tr>\n    <tr>\n      <th>1</th>\n      <td>1</td>\n    </tr>\n    <tr>\n      <th>2</th>\n      <td>0</td>\n    </tr>\n    <tr>\n      <th>3</th>\n      <td>0</td>\n    </tr>\n    <tr>\n      <th>4</th>\n      <td>0</td>\n    </tr>\n    <tr>\n      <th>...</th>\n      <td>...</td>\n    </tr>\n    <tr>\n      <th>7147</th>\n      <td>0</td>\n    </tr>\n    <tr>\n      <th>7148</th>\n      <td>0</td>\n    </tr>\n    <tr>\n      <th>7149</th>\n      <td>0</td>\n    </tr>\n    <tr>\n      <th>7150</th>\n      <td>0</td>\n    </tr>\n    <tr>\n      <th>7151</th>\n      <td>0</td>\n    </tr>\n  </tbody>\n</table>\n<p>7152 rows × 1 columns</p>\n</div>"
     },
     "execution_count": 40,
     "metadata": {},
     "output_type": "execute_result"
    }
   ],
   "source": [
    "test = load_data(load_train=False)\n",
    "\n",
    "clf = ExtraTreesClassifier(n_estimators=200)\n",
    "clf = clf.fit(X, y)\n",
    "selector = SelectFromModel(estimator=clf,prefit=True,max_features=100)\n",
    "X = selector.transform(X)\n",
    "test=selector.transform(test)\n",
    "X,test = pd.DataFrame(X), pd.DataFrame(test)\n",
    "integers = X.columns\n",
    "stringed = map(str,integers)\n",
    "X.columns = stringed\n",
    "\n",
    "best_model.fit(X,y)\n",
    "res = best_model.predict(test)\n",
    "res = pd.DataFrame(res)\n",
    "res.index.name = 'Id'\n",
    "res.rename(columns={0: 'Category'}, inplace=True, errors='raise')\n",
    "res.to_csv('Kaggle_file_to_submit/prediction_tokenisation.csv')\n",
    "res"
   ]
  },
  {
   "cell_type": "code",
   "execution_count": 165,
   "metadata": {
    "pycharm": {
     "name": "#%%\n"
    }
   },
   "outputs": [
    {
     "data": {
      "text/plain": [
       "set()"
      ]
     },
     "execution_count": 165,
     "metadata": {},
     "output_type": "execute_result"
    }
   ],
   "source": [
    "# if there is an error in the above code with differences it means someone uploaded different formats for the train and test files. Below are the difference in columns\n",
    "set(test.columns.to_list()) - set(X.columns.to_list())"
   ]
  },
  {
   "cell_type": "code",
   "execution_count": 166,
   "metadata": {
    "pycharm": {
     "name": "#%%\n"
    }
   },
   "outputs": [
    {
     "data": {
      "text/plain": [
       "set()"
      ]
     },
     "execution_count": 166,
     "metadata": {},
     "output_type": "execute_result"
    }
   ],
   "source": [
    "set(X.columns.to_list()) - set(test.columns.to_list())"
   ]
  },
  {
   "cell_type": "code",
   "execution_count": 167,
   "metadata": {
    "pycharm": {
     "name": "#%%\n"
    }
   },
   "outputs": [
    {
     "data": {
      "text/plain": [
       "(10728, 259)"
      ]
     },
     "execution_count": 167,
     "metadata": {},
     "output_type": "execute_result"
    }
   ],
   "source": [
    "X.shape"
   ]
  },
  {
   "cell_type": "code",
   "execution_count": 51,
   "metadata": {
    "pycharm": {
     "name": "#%%\n"
    }
   },
   "outputs": [
    {
     "name": "stdout",
     "output_type": "stream",
     "text": [
      "(7152, 10039)\n"
     ]
    }
   ],
   "source": [
    "test=load_data(load_train=False)"
   ]
  },
  {
   "cell_type": "code",
   "execution_count": 15,
   "metadata": {},
   "outputs": [
    {
     "data": {
      "text/plain": [
       "494"
      ]
     },
     "execution_count": 15,
     "metadata": {},
     "output_type": "execute_result"
    }
   ],
   "source": [
    "sum(y)"
   ]
  },
  {
   "cell_type": "code",
   "execution_count": 49,
   "metadata": {
    "pycharm": {
     "name": "#%%\n"
    }
   },
   "outputs": [
    {
     "data": {
      "text/plain": "(7152, 100)"
     },
     "execution_count": 49,
     "metadata": {},
     "output_type": "execute_result"
    }
   ],
   "source": [
    "test.shape"
   ]
  },
  {
   "cell_type": "code",
   "execution_count": 41,
   "outputs": [
    {
     "data": {
      "text/plain": "numpy.ndarray"
     },
     "execution_count": 41,
     "metadata": {},
     "output_type": "execute_result"
    }
   ],
   "source": [
    "type(X_train)"
   ],
   "metadata": {
    "collapsed": false,
    "pycharm": {
     "name": "#%%\n"
    }
   }
  },
  {
   "cell_type": "code",
   "execution_count": 50,
   "outputs": [],
   "source": [
    "d = {'col1': [1, 2], 'col2': [3, 4]}\n",
    "df = pd.DataFrame(data=d)"
   ],
   "metadata": {
    "collapsed": false,
    "pycharm": {
     "name": "#%%\n"
    }
   }
  },
  {
   "cell_type": "code",
   "execution_count": 52,
   "outputs": [],
   "source": [
    "integers = df.columns\n",
    "stringed = (map(str,integers))\n",
    "df.columns = stringed"
   ],
   "metadata": {
    "collapsed": false,
    "pycharm": {
     "name": "#%%\n"
    }
   }
  },
  {
   "cell_type": "code",
   "execution_count": 53,
   "outputs": [
    {
     "data": {
      "text/plain": "   col1  col2\n0     1     3\n1     2     4",
      "text/html": "<div>\n<style scoped>\n    .dataframe tbody tr th:only-of-type {\n        vertical-align: middle;\n    }\n\n    .dataframe tbody tr th {\n        vertical-align: top;\n    }\n\n    .dataframe thead th {\n        text-align: right;\n    }\n</style>\n<table border=\"1\" class=\"dataframe\">\n  <thead>\n    <tr style=\"text-align: right;\">\n      <th></th>\n      <th>col1</th>\n      <th>col2</th>\n    </tr>\n  </thead>\n  <tbody>\n    <tr>\n      <th>0</th>\n      <td>1</td>\n      <td>3</td>\n    </tr>\n    <tr>\n      <th>1</th>\n      <td>2</td>\n      <td>4</td>\n    </tr>\n  </tbody>\n</table>\n</div>"
     },
     "execution_count": 53,
     "metadata": {},
     "output_type": "execute_result"
    }
   ],
   "source": [
    "df"
   ],
   "metadata": {
    "collapsed": false,
    "pycharm": {
     "name": "#%%\n"
    }
   }
  },
  {
   "cell_type": "code",
   "execution_count": 52,
   "outputs": [],
   "source": [
    "df = pd.read_csv('test/peter_test7.csv')"
   ],
   "metadata": {
    "collapsed": false,
    "pycharm": {
     "name": "#%%\n"
    }
   }
  },
  {
   "cell_type": "code",
   "execution_count": 58,
   "outputs": [
    {
     "data": {
      "text/plain": "      Unnamed: 0  title_jr  title_business  title_analyst  title_quality  \\\n0              0         0               0              0              0   \n1              1         0               0              0              0   \n2              2         0               0              0              0   \n3              3         0               0              0              0   \n4              4         0               0              0              0   \n...          ...       ...             ...            ...            ...   \n7147        7147         0               0              0              0   \n7148        7148         0               0              0              0   \n7149        7149         0               0              0              0   \n7150        7150         0               0              0              0   \n7151        7151         0               0              0              0   \n\n      title_entry  title_level  title_english  title_teacher  title_abroad  \\\n0               0            0              0              0             0   \n1               0            0              0              0             0   \n2               0            0              0              0             0   \n3               0            0              0              0             0   \n4               0            0              0              0             0   \n...           ...          ...            ...            ...           ...   \n7147            0            0              0              0             0   \n7148            0            0              0              0             0   \n7149            0            0              0              0             0   \n7150            0            0              0              0             0   \n7151            0            0              0              0             0   \n\n      ...  benefits_rata  benefits_commuting  benefits_needed  \\\n0     ...              0                   0                0   \n1     ...              0                   0                0   \n2     ...              0                   0                0   \n3     ...              0                   0                0   \n4     ...              0                   0                0   \n...   ...            ...                 ...              ...   \n7147  ...              0                   0                0   \n7148  ...              0                   0                0   \n7149  ...              0                   0                0   \n7150  ...              0                   0                0   \n7151  ...              0                   0                0   \n\n      benefits_snowboarding  benefits_cooking  benefits_declara  \\\n0                         0                 0                 0   \n1                         0                 0                 0   \n2                         0                 0                 0   \n3                         0                 0                 0   \n4                         0                 0                 0   \n...                     ...               ...               ...   \n7147                      0                 0                 0   \n7148                      0                 0                 0   \n7149                      0                 0                 0   \n7150                      0                 0                 0   \n7151                      0                 0                 0   \n\n      benefits_trends  benefits_covered  benefits_leapfrog  benefits_nac  \n0                   0                 0                  0             0  \n1                   0                 0                  0             0  \n2                   0                 0                  0             0  \n3                   0                 0                  0             0  \n4                   0                 0                  0             0  \n...               ...               ...                ...           ...  \n7147                0                 0                  0             0  \n7148                0                 0                  0             0  \n7149                0                 0                  0             0  \n7150                0                 0                  0             0  \n7151                0                 0                  0             0  \n\n[7152 rows x 10001 columns]",
      "text/html": "<div>\n<style scoped>\n    .dataframe tbody tr th:only-of-type {\n        vertical-align: middle;\n    }\n\n    .dataframe tbody tr th {\n        vertical-align: top;\n    }\n\n    .dataframe thead th {\n        text-align: right;\n    }\n</style>\n<table border=\"1\" class=\"dataframe\">\n  <thead>\n    <tr style=\"text-align: right;\">\n      <th></th>\n      <th>Unnamed: 0</th>\n      <th>title_jr</th>\n      <th>title_business</th>\n      <th>title_analyst</th>\n      <th>title_quality</th>\n      <th>title_entry</th>\n      <th>title_level</th>\n      <th>title_english</th>\n      <th>title_teacher</th>\n      <th>title_abroad</th>\n      <th>...</th>\n      <th>benefits_rata</th>\n      <th>benefits_commuting</th>\n      <th>benefits_needed</th>\n      <th>benefits_snowboarding</th>\n      <th>benefits_cooking</th>\n      <th>benefits_declara</th>\n      <th>benefits_trends</th>\n      <th>benefits_covered</th>\n      <th>benefits_leapfrog</th>\n      <th>benefits_nac</th>\n    </tr>\n  </thead>\n  <tbody>\n    <tr>\n      <th>0</th>\n      <td>0</td>\n      <td>0</td>\n      <td>0</td>\n      <td>0</td>\n      <td>0</td>\n      <td>0</td>\n      <td>0</td>\n      <td>0</td>\n      <td>0</td>\n      <td>0</td>\n      <td>...</td>\n      <td>0</td>\n      <td>0</td>\n      <td>0</td>\n      <td>0</td>\n      <td>0</td>\n      <td>0</td>\n      <td>0</td>\n      <td>0</td>\n      <td>0</td>\n      <td>0</td>\n    </tr>\n    <tr>\n      <th>1</th>\n      <td>1</td>\n      <td>0</td>\n      <td>0</td>\n      <td>0</td>\n      <td>0</td>\n      <td>0</td>\n      <td>0</td>\n      <td>0</td>\n      <td>0</td>\n      <td>0</td>\n      <td>...</td>\n      <td>0</td>\n      <td>0</td>\n      <td>0</td>\n      <td>0</td>\n      <td>0</td>\n      <td>0</td>\n      <td>0</td>\n      <td>0</td>\n      <td>0</td>\n      <td>0</td>\n    </tr>\n    <tr>\n      <th>2</th>\n      <td>2</td>\n      <td>0</td>\n      <td>0</td>\n      <td>0</td>\n      <td>0</td>\n      <td>0</td>\n      <td>0</td>\n      <td>0</td>\n      <td>0</td>\n      <td>0</td>\n      <td>...</td>\n      <td>0</td>\n      <td>0</td>\n      <td>0</td>\n      <td>0</td>\n      <td>0</td>\n      <td>0</td>\n      <td>0</td>\n      <td>0</td>\n      <td>0</td>\n      <td>0</td>\n    </tr>\n    <tr>\n      <th>3</th>\n      <td>3</td>\n      <td>0</td>\n      <td>0</td>\n      <td>0</td>\n      <td>0</td>\n      <td>0</td>\n      <td>0</td>\n      <td>0</td>\n      <td>0</td>\n      <td>0</td>\n      <td>...</td>\n      <td>0</td>\n      <td>0</td>\n      <td>0</td>\n      <td>0</td>\n      <td>0</td>\n      <td>0</td>\n      <td>0</td>\n      <td>0</td>\n      <td>0</td>\n      <td>0</td>\n    </tr>\n    <tr>\n      <th>4</th>\n      <td>4</td>\n      <td>0</td>\n      <td>0</td>\n      <td>0</td>\n      <td>0</td>\n      <td>0</td>\n      <td>0</td>\n      <td>0</td>\n      <td>0</td>\n      <td>0</td>\n      <td>...</td>\n      <td>0</td>\n      <td>0</td>\n      <td>0</td>\n      <td>0</td>\n      <td>0</td>\n      <td>0</td>\n      <td>0</td>\n      <td>0</td>\n      <td>0</td>\n      <td>0</td>\n    </tr>\n    <tr>\n      <th>...</th>\n      <td>...</td>\n      <td>...</td>\n      <td>...</td>\n      <td>...</td>\n      <td>...</td>\n      <td>...</td>\n      <td>...</td>\n      <td>...</td>\n      <td>...</td>\n      <td>...</td>\n      <td>...</td>\n      <td>...</td>\n      <td>...</td>\n      <td>...</td>\n      <td>...</td>\n      <td>...</td>\n      <td>...</td>\n      <td>...</td>\n      <td>...</td>\n      <td>...</td>\n      <td>...</td>\n    </tr>\n    <tr>\n      <th>7147</th>\n      <td>7147</td>\n      <td>0</td>\n      <td>0</td>\n      <td>0</td>\n      <td>0</td>\n      <td>0</td>\n      <td>0</td>\n      <td>0</td>\n      <td>0</td>\n      <td>0</td>\n      <td>...</td>\n      <td>0</td>\n      <td>0</td>\n      <td>0</td>\n      <td>0</td>\n      <td>0</td>\n      <td>0</td>\n      <td>0</td>\n      <td>0</td>\n      <td>0</td>\n      <td>0</td>\n    </tr>\n    <tr>\n      <th>7148</th>\n      <td>7148</td>\n      <td>0</td>\n      <td>0</td>\n      <td>0</td>\n      <td>0</td>\n      <td>0</td>\n      <td>0</td>\n      <td>0</td>\n      <td>0</td>\n      <td>0</td>\n      <td>...</td>\n      <td>0</td>\n      <td>0</td>\n      <td>0</td>\n      <td>0</td>\n      <td>0</td>\n      <td>0</td>\n      <td>0</td>\n      <td>0</td>\n      <td>0</td>\n      <td>0</td>\n    </tr>\n    <tr>\n      <th>7149</th>\n      <td>7149</td>\n      <td>0</td>\n      <td>0</td>\n      <td>0</td>\n      <td>0</td>\n      <td>0</td>\n      <td>0</td>\n      <td>0</td>\n      <td>0</td>\n      <td>0</td>\n      <td>...</td>\n      <td>0</td>\n      <td>0</td>\n      <td>0</td>\n      <td>0</td>\n      <td>0</td>\n      <td>0</td>\n      <td>0</td>\n      <td>0</td>\n      <td>0</td>\n      <td>0</td>\n    </tr>\n    <tr>\n      <th>7150</th>\n      <td>7150</td>\n      <td>0</td>\n      <td>0</td>\n      <td>0</td>\n      <td>0</td>\n      <td>0</td>\n      <td>0</td>\n      <td>0</td>\n      <td>0</td>\n      <td>0</td>\n      <td>...</td>\n      <td>0</td>\n      <td>0</td>\n      <td>0</td>\n      <td>0</td>\n      <td>0</td>\n      <td>0</td>\n      <td>0</td>\n      <td>0</td>\n      <td>0</td>\n      <td>0</td>\n    </tr>\n    <tr>\n      <th>7151</th>\n      <td>7151</td>\n      <td>0</td>\n      <td>0</td>\n      <td>0</td>\n      <td>0</td>\n      <td>0</td>\n      <td>0</td>\n      <td>0</td>\n      <td>0</td>\n      <td>0</td>\n      <td>...</td>\n      <td>0</td>\n      <td>0</td>\n      <td>0</td>\n      <td>0</td>\n      <td>0</td>\n      <td>0</td>\n      <td>0</td>\n      <td>0</td>\n      <td>0</td>\n      <td>0</td>\n    </tr>\n  </tbody>\n</table>\n<p>7152 rows × 10001 columns</p>\n</div>"
     },
     "execution_count": 58,
     "metadata": {},
     "output_type": "execute_result"
    }
   ],
   "source": [
    "df"
   ],
   "metadata": {
    "collapsed": false,
    "pycharm": {
     "name": "#%%\n"
    }
   }
  },
  {
   "cell_type": "code",
   "execution_count": null,
   "outputs": [],
   "source": [],
   "metadata": {
    "collapsed": false,
    "pycharm": {
     "name": "#%%\n"
    }
   }
  }
 ],
 "metadata": {
  "kernelspec": {
   "display_name": "Python 3 (ipykernel)",
   "language": "python",
   "name": "python3"
  },
  "language_info": {
   "codemirror_mode": {
    "name": "ipython",
    "version": 3
   },
   "file_extension": ".py",
   "mimetype": "text/x-python",
   "name": "python",
   "nbconvert_exporter": "python",
   "pygments_lexer": "ipython3",
   "version": "3.7.13"
  },
  "vscode": {
   "interpreter": {
    "hash": "5337908f185b65e625d2a4a7cfa13286fc07c9adadb0d4ec4ce1e4818ec63e30"
   }
  }
 },
 "nbformat": 4,
 "nbformat_minor": 1
}