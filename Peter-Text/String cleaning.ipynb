{
 "cells": [
  {
   "cell_type": "code",
   "execution_count": 1,
   "metadata": {},
   "outputs": [],
   "source": [
    "# Required libraries\n",
    "import numpy as np\n",
    "import pandas as pd\n"
   ]
  },
  {
   "cell_type": "code",
   "execution_count": 2,
   "metadata": {},
   "outputs": [],
   "source": [
    "# Import training set\n",
    "df = pd.read_csv('inclassfakejobs/train.csv')\n"
   ]
  },
  {
   "cell_type": "code",
   "execution_count": 3,
   "metadata": {},
   "outputs": [
    {
     "data": {
      "text/html": [
       "<div>\n",
       "<style scoped>\n",
       "    .dataframe tbody tr th:only-of-type {\n",
       "        vertical-align: middle;\n",
       "    }\n",
       "\n",
       "    .dataframe tbody tr th {\n",
       "        vertical-align: top;\n",
       "    }\n",
       "\n",
       "    .dataframe thead th {\n",
       "        text-align: right;\n",
       "    }\n",
       "</style>\n",
       "<table border=\"1\" class=\"dataframe\">\n",
       "  <thead>\n",
       "    <tr style=\"text-align: right;\">\n",
       "      <th></th>\n",
       "      <th>Id</th>\n",
       "      <th>job_id</th>\n",
       "      <th>title</th>\n",
       "      <th>location</th>\n",
       "      <th>department</th>\n",
       "      <th>salary_range</th>\n",
       "      <th>company_profile</th>\n",
       "      <th>description</th>\n",
       "      <th>requirements</th>\n",
       "      <th>benefits</th>\n",
       "      <th>telecommuting</th>\n",
       "      <th>has_company_logo</th>\n",
       "      <th>has_questions</th>\n",
       "      <th>employment_type</th>\n",
       "      <th>required_experience</th>\n",
       "      <th>required_education</th>\n",
       "      <th>industry</th>\n",
       "      <th>function</th>\n",
       "      <th>required_doughnuts_comsumption</th>\n",
       "      <th>fraudulent</th>\n",
       "    </tr>\n",
       "  </thead>\n",
       "  <tbody>\n",
       "    <tr>\n",
       "      <th>0</th>\n",
       "      <td>0</td>\n",
       "      <td>5737</td>\n",
       "      <td>Jr. Business Analyst &amp; Quality Analyst (entry...</td>\n",
       "      <td>US, NJ, PISCATAWAY</td>\n",
       "      <td>NaN</td>\n",
       "      <td>NaN</td>\n",
       "      <td>NaN</td>\n",
       "      <td>Duration: Full time / W2Location: Piscataway,N...</td>\n",
       "      <td>What we require:-- Masters degree in Computers...</td>\n",
       "      <td>NaN</td>\n",
       "      <td>0</td>\n",
       "      <td>0</td>\n",
       "      <td>0</td>\n",
       "      <td>Full-time</td>\n",
       "      <td>Entry level</td>\n",
       "      <td>Master's Degree</td>\n",
       "      <td>Financial Services</td>\n",
       "      <td>Finance</td>\n",
       "      <td>-0.410911</td>\n",
       "      <td>0</td>\n",
       "    </tr>\n",
       "    <tr>\n",
       "      <th>1</th>\n",
       "      <td>1</td>\n",
       "      <td>7107</td>\n",
       "      <td>English Teacher Abroad</td>\n",
       "      <td>US, PA, Scranton</td>\n",
       "      <td>NaN</td>\n",
       "      <td>NaN</td>\n",
       "      <td>We help teachers get safe &amp;amp; secure jobs ab...</td>\n",
       "      <td>Play with kids, get paid for it Love travel? J...</td>\n",
       "      <td>University degree required. TEFL / TESOL / CEL...</td>\n",
       "      <td>See job description</td>\n",
       "      <td>0</td>\n",
       "      <td>1</td>\n",
       "      <td>1</td>\n",
       "      <td>Contract</td>\n",
       "      <td>NaN</td>\n",
       "      <td>Bachelor's Degree</td>\n",
       "      <td>Education Management</td>\n",
       "      <td>NaN</td>\n",
       "      <td>-0.163785</td>\n",
       "      <td>0</td>\n",
       "    </tr>\n",
       "    <tr>\n",
       "      <th>2</th>\n",
       "      <td>2</td>\n",
       "      <td>11979</td>\n",
       "      <td>SQL Server Database Developer Job opportunity ...</td>\n",
       "      <td>US, IL, Barrington</td>\n",
       "      <td>NaN</td>\n",
       "      <td>90000-100000</td>\n",
       "      <td>We are an innovative personnel-sourcing firm w...</td>\n",
       "      <td>Position : SQL Server Database DeveloperJob Lo...</td>\n",
       "      <td>Position : SQL Server Database DeveloperJob Lo...</td>\n",
       "      <td>Benefits - FullBonus Eligible - Yes</td>\n",
       "      <td>0</td>\n",
       "      <td>0</td>\n",
       "      <td>0</td>\n",
       "      <td>Full-time</td>\n",
       "      <td>Mid-Senior level</td>\n",
       "      <td>Bachelor's Degree</td>\n",
       "      <td>Information Technology and Services</td>\n",
       "      <td>Information Technology</td>\n",
       "      <td>-0.244369</td>\n",
       "      <td>0</td>\n",
       "    </tr>\n",
       "    <tr>\n",
       "      <th>3</th>\n",
       "      <td>3</td>\n",
       "      <td>9375</td>\n",
       "      <td>Legal Analyst - 12 Month FTC</td>\n",
       "      <td>GB, LND, London</td>\n",
       "      <td>Legal</td>\n",
       "      <td>NaN</td>\n",
       "      <td>MarketInvoice is one of the most high-profile ...</td>\n",
       "      <td>DescriptionOur mission at MarketInvoice is to ...</td>\n",
       "      <td>Duties and ResponsibilitiesReviewing contractu...</td>\n",
       "      <td>Competitive salaryPrivate HealthcareHalf price...</td>\n",
       "      <td>0</td>\n",
       "      <td>1</td>\n",
       "      <td>0</td>\n",
       "      <td>Full-time</td>\n",
       "      <td>Associate</td>\n",
       "      <td>Professional</td>\n",
       "      <td>Financial Services</td>\n",
       "      <td>Legal</td>\n",
       "      <td>-0.456807</td>\n",
       "      <td>0</td>\n",
       "    </tr>\n",
       "    <tr>\n",
       "      <th>4</th>\n",
       "      <td>4</td>\n",
       "      <td>1301</td>\n",
       "      <td>Part-Time Finance Assistant</td>\n",
       "      <td>GB, LND,</td>\n",
       "      <td>NaN</td>\n",
       "      <td>NaN</td>\n",
       "      <td>NaN</td>\n",
       "      <td>Salary:£9 - £10 per hour We are currently goin...</td>\n",
       "      <td>Your role will be a varied, interesting and in...</td>\n",
       "      <td>Salary:£9 - £10 per hour</td>\n",
       "      <td>0</td>\n",
       "      <td>0</td>\n",
       "      <td>0</td>\n",
       "      <td>Part-time</td>\n",
       "      <td>NaN</td>\n",
       "      <td>NaN</td>\n",
       "      <td>Accounting</td>\n",
       "      <td>NaN</td>\n",
       "      <td>-0.217880</td>\n",
       "      <td>0</td>\n",
       "    </tr>\n",
       "  </tbody>\n",
       "</table>\n",
       "</div>"
      ],
      "text/plain": [
       "   Id  job_id                                              title  \\\n",
       "0   0    5737   Jr. Business Analyst & Quality Analyst (entry...   \n",
       "1   1    7107                            English Teacher Abroad    \n",
       "2   2   11979  SQL Server Database Developer Job opportunity ...   \n",
       "3   3    9375                       Legal Analyst - 12 Month FTC   \n",
       "4   4    1301                        Part-Time Finance Assistant   \n",
       "\n",
       "             location department  salary_range  \\\n",
       "0  US, NJ, PISCATAWAY        NaN           NaN   \n",
       "1   US, PA, Scranton         NaN           NaN   \n",
       "2  US, IL, Barrington        NaN  90000-100000   \n",
       "3     GB, LND, London      Legal           NaN   \n",
       "4           GB, LND,         NaN           NaN   \n",
       "\n",
       "                                     company_profile  \\\n",
       "0                                                NaN   \n",
       "1  We help teachers get safe &amp; secure jobs ab...   \n",
       "2  We are an innovative personnel-sourcing firm w...   \n",
       "3  MarketInvoice is one of the most high-profile ...   \n",
       "4                                                NaN   \n",
       "\n",
       "                                         description  \\\n",
       "0  Duration: Full time / W2Location: Piscataway,N...   \n",
       "1  Play with kids, get paid for it Love travel? J...   \n",
       "2  Position : SQL Server Database DeveloperJob Lo...   \n",
       "3  DescriptionOur mission at MarketInvoice is to ...   \n",
       "4  Salary:£9 - £10 per hour We are currently goin...   \n",
       "\n",
       "                                        requirements  \\\n",
       "0  What we require:-- Masters degree in Computers...   \n",
       "1  University degree required. TEFL / TESOL / CEL...   \n",
       "2  Position : SQL Server Database DeveloperJob Lo...   \n",
       "3  Duties and ResponsibilitiesReviewing contractu...   \n",
       "4  Your role will be a varied, interesting and in...   \n",
       "\n",
       "                                            benefits  telecommuting  \\\n",
       "0                                                NaN              0   \n",
       "1                                See job description              0   \n",
       "2                Benefits - FullBonus Eligible - Yes              0   \n",
       "3  Competitive salaryPrivate HealthcareHalf price...              0   \n",
       "4                          Salary:£9 - £10 per hour               0   \n",
       "\n",
       "   has_company_logo  has_questions employment_type required_experience  \\\n",
       "0                 0              0       Full-time         Entry level   \n",
       "1                 1              1        Contract                 NaN   \n",
       "2                 0              0       Full-time    Mid-Senior level   \n",
       "3                 1              0       Full-time           Associate   \n",
       "4                 0              0       Part-time                 NaN   \n",
       "\n",
       "  required_education                             industry  \\\n",
       "0    Master's Degree                   Financial Services   \n",
       "1  Bachelor's Degree                 Education Management   \n",
       "2  Bachelor's Degree  Information Technology and Services   \n",
       "3       Professional                   Financial Services   \n",
       "4                NaN                           Accounting   \n",
       "\n",
       "                 function  required_doughnuts_comsumption  fraudulent  \n",
       "0                 Finance                       -0.410911           0  \n",
       "1                     NaN                       -0.163785           0  \n",
       "2  Information Technology                       -0.244369           0  \n",
       "3                   Legal                       -0.456807           0  \n",
       "4                     NaN                       -0.217880           0  "
      ]
     },
     "execution_count": 3,
     "metadata": {},
     "output_type": "execute_result"
    }
   ],
   "source": [
    "df.head()\n"
   ]
  },
  {
   "cell_type": "code",
   "execution_count": 4,
   "metadata": {},
   "outputs": [
    {
     "data": {
      "text/plain": [
       "Index(['Id', 'job_id', 'title', 'location', 'department', 'salary_range',\n",
       "       'company_profile', 'description', 'requirements', 'benefits',\n",
       "       'telecommuting', 'has_company_logo', 'has_questions', 'employment_type',\n",
       "       'required_experience', 'required_education', 'industry', 'function',\n",
       "       'required_doughnuts_comsumption', 'fraudulent'],\n",
       "      dtype='object')"
      ]
     },
     "execution_count": 4,
     "metadata": {},
     "output_type": "execute_result"
    }
   ],
   "source": [
    "df.columns\n"
   ]
  },
  {
   "cell_type": "code",
   "execution_count": 5,
   "metadata": {},
   "outputs": [
    {
     "data": {
      "text/html": [
       "<div>\n",
       "<style scoped>\n",
       "    .dataframe tbody tr th:only-of-type {\n",
       "        vertical-align: middle;\n",
       "    }\n",
       "\n",
       "    .dataframe tbody tr th {\n",
       "        vertical-align: top;\n",
       "    }\n",
       "\n",
       "    .dataframe thead th {\n",
       "        text-align: right;\n",
       "    }\n",
       "</style>\n",
       "<table border=\"1\" class=\"dataframe\">\n",
       "  <thead>\n",
       "    <tr style=\"text-align: right;\">\n",
       "      <th></th>\n",
       "      <th>title</th>\n",
       "      <th>company_profile</th>\n",
       "      <th>description</th>\n",
       "      <th>requirements</th>\n",
       "      <th>benefits</th>\n",
       "      <th>fraudulent</th>\n",
       "    </tr>\n",
       "  </thead>\n",
       "  <tbody>\n",
       "    <tr>\n",
       "      <th>0</th>\n",
       "      <td>Jr. Business Analyst &amp; Quality Analyst (entry...</td>\n",
       "      <td>NaN</td>\n",
       "      <td>Duration: Full time / W2Location: Piscataway,N...</td>\n",
       "      <td>What we require:-- Masters degree in Computers...</td>\n",
       "      <td>NaN</td>\n",
       "      <td>0</td>\n",
       "    </tr>\n",
       "    <tr>\n",
       "      <th>1</th>\n",
       "      <td>English Teacher Abroad</td>\n",
       "      <td>We help teachers get safe &amp;amp; secure jobs ab...</td>\n",
       "      <td>Play with kids, get paid for it Love travel? J...</td>\n",
       "      <td>University degree required. TEFL / TESOL / CEL...</td>\n",
       "      <td>See job description</td>\n",
       "      <td>0</td>\n",
       "    </tr>\n",
       "    <tr>\n",
       "      <th>2</th>\n",
       "      <td>SQL Server Database Developer Job opportunity ...</td>\n",
       "      <td>We are an innovative personnel-sourcing firm w...</td>\n",
       "      <td>Position : SQL Server Database DeveloperJob Lo...</td>\n",
       "      <td>Position : SQL Server Database DeveloperJob Lo...</td>\n",
       "      <td>Benefits - FullBonus Eligible - Yes</td>\n",
       "      <td>0</td>\n",
       "    </tr>\n",
       "    <tr>\n",
       "      <th>3</th>\n",
       "      <td>Legal Analyst - 12 Month FTC</td>\n",
       "      <td>MarketInvoice is one of the most high-profile ...</td>\n",
       "      <td>DescriptionOur mission at MarketInvoice is to ...</td>\n",
       "      <td>Duties and ResponsibilitiesReviewing contractu...</td>\n",
       "      <td>Competitive salaryPrivate HealthcareHalf price...</td>\n",
       "      <td>0</td>\n",
       "    </tr>\n",
       "    <tr>\n",
       "      <th>4</th>\n",
       "      <td>Part-Time Finance Assistant</td>\n",
       "      <td>NaN</td>\n",
       "      <td>Salary:£9 - £10 per hour We are currently goin...</td>\n",
       "      <td>Your role will be a varied, interesting and in...</td>\n",
       "      <td>Salary:£9 - £10 per hour</td>\n",
       "      <td>0</td>\n",
       "    </tr>\n",
       "  </tbody>\n",
       "</table>\n",
       "</div>"
      ],
      "text/plain": [
       "                                               title  \\\n",
       "0   Jr. Business Analyst & Quality Analyst (entry...   \n",
       "1                            English Teacher Abroad    \n",
       "2  SQL Server Database Developer Job opportunity ...   \n",
       "3                       Legal Analyst - 12 Month FTC   \n",
       "4                        Part-Time Finance Assistant   \n",
       "\n",
       "                                     company_profile  \\\n",
       "0                                                NaN   \n",
       "1  We help teachers get safe &amp; secure jobs ab...   \n",
       "2  We are an innovative personnel-sourcing firm w...   \n",
       "3  MarketInvoice is one of the most high-profile ...   \n",
       "4                                                NaN   \n",
       "\n",
       "                                         description  \\\n",
       "0  Duration: Full time / W2Location: Piscataway,N...   \n",
       "1  Play with kids, get paid for it Love travel? J...   \n",
       "2  Position : SQL Server Database DeveloperJob Lo...   \n",
       "3  DescriptionOur mission at MarketInvoice is to ...   \n",
       "4  Salary:£9 - £10 per hour We are currently goin...   \n",
       "\n",
       "                                        requirements  \\\n",
       "0  What we require:-- Masters degree in Computers...   \n",
       "1  University degree required. TEFL / TESOL / CEL...   \n",
       "2  Position : SQL Server Database DeveloperJob Lo...   \n",
       "3  Duties and ResponsibilitiesReviewing contractu...   \n",
       "4  Your role will be a varied, interesting and in...   \n",
       "\n",
       "                                            benefits  fraudulent  \n",
       "0                                                NaN           0  \n",
       "1                                See job description           0  \n",
       "2                Benefits - FullBonus Eligible - Yes           0  \n",
       "3  Competitive salaryPrivate HealthcareHalf price...           0  \n",
       "4                          Salary:£9 - £10 per hour            0  "
      ]
     },
     "execution_count": 5,
     "metadata": {},
     "output_type": "execute_result"
    }
   ],
   "source": [
    "df_string = df[['title', 'company_profile', 'description',\n",
    "                'requirements', 'benefits', 'fraudulent']]\n",
    "df_string.head()\n"
   ]
  },
  {
   "cell_type": "markdown",
   "metadata": {},
   "source": [
    "Eliminate missing values"
   ]
  },
  {
   "cell_type": "code",
   "execution_count": 6,
   "metadata": {},
   "outputs": [
    {
     "name": "stdout",
     "output_type": "stream",
     "text": [
      "title: 0\n",
      "company_profile: 1962\n",
      "description: 1\n",
      "requirements: 1629\n",
      "benefits: 4368\n"
     ]
    }
   ],
   "source": [
    "for col in ['title', 'company_profile', 'description', 'requirements', 'benefits']:\n",
    "    missing = df_string[df_string[f'{col}'].isna()].shape[0]\n",
    "    print(f'{col}: {missing}')\n"
   ]
  },
  {
   "cell_type": "code",
   "execution_count": 7,
   "metadata": {},
   "outputs": [
    {
     "name": "stdout",
     "output_type": "stream",
     "text": [
      "title: 0\n",
      "company_profile: 0\n",
      "description: 0\n",
      "requirements: 0\n",
      "benefits: 0\n",
      "fraudulent: 0\n"
     ]
    }
   ],
   "source": [
    "df_string = df_string.fillna('')\n",
    "for col in df_string.columns:\n",
    "    missing = df_string[df_string[f'{col}'].isna()].shape[0]\n",
    "    print(f'{col}: {missing}')\n"
   ]
  },
  {
   "cell_type": "markdown",
   "metadata": {},
   "source": [
    "Now to add features for string length"
   ]
  },
  {
   "cell_type": "code",
   "execution_count": 8,
   "metadata": {},
   "outputs": [],
   "source": [
    "for col in df_string.columns[:-1]:\n",
    "    string_len = []\n",
    "    for i, string in enumerate(df_string[col].values):\n",
    "        string_len.append(len(str(string)))\n",
    "    df_string[f'{col}#'] = string_len\n"
   ]
  },
  {
   "cell_type": "code",
   "execution_count": 9,
   "metadata": {},
   "outputs": [
    {
     "data": {
      "text/html": [
       "<div>\n",
       "<style scoped>\n",
       "    .dataframe tbody tr th:only-of-type {\n",
       "        vertical-align: middle;\n",
       "    }\n",
       "\n",
       "    .dataframe tbody tr th {\n",
       "        vertical-align: top;\n",
       "    }\n",
       "\n",
       "    .dataframe thead th {\n",
       "        text-align: right;\n",
       "    }\n",
       "</style>\n",
       "<table border=\"1\" class=\"dataframe\">\n",
       "  <thead>\n",
       "    <tr style=\"text-align: right;\">\n",
       "      <th></th>\n",
       "      <th>title</th>\n",
       "      <th>company_profile</th>\n",
       "      <th>description</th>\n",
       "      <th>requirements</th>\n",
       "      <th>benefits</th>\n",
       "      <th>fraudulent</th>\n",
       "      <th>title#</th>\n",
       "      <th>company_profile#</th>\n",
       "      <th>description#</th>\n",
       "      <th>requirements#</th>\n",
       "      <th>benefits#</th>\n",
       "    </tr>\n",
       "  </thead>\n",
       "  <tbody>\n",
       "    <tr>\n",
       "      <th>0</th>\n",
       "      <td>Jr. Business Analyst &amp; Quality Analyst (entry...</td>\n",
       "      <td></td>\n",
       "      <td>Duration: Full time / W2Location: Piscataway,N...</td>\n",
       "      <td>What we require:-- Masters degree in Computers...</td>\n",
       "      <td></td>\n",
       "      <td>0</td>\n",
       "      <td>53</td>\n",
       "      <td>0</td>\n",
       "      <td>1062</td>\n",
       "      <td>224</td>\n",
       "      <td>0</td>\n",
       "    </tr>\n",
       "  </tbody>\n",
       "</table>\n",
       "</div>"
      ],
      "text/plain": [
       "                                               title company_profile  \\\n",
       "0   Jr. Business Analyst & Quality Analyst (entry...                   \n",
       "\n",
       "                                         description  \\\n",
       "0  Duration: Full time / W2Location: Piscataway,N...   \n",
       "\n",
       "                                        requirements benefits  fraudulent  \\\n",
       "0  What we require:-- Masters degree in Computers...                    0   \n",
       "\n",
       "   title#  company_profile#  description#  requirements#  benefits#  \n",
       "0      53                 0          1062            224          0  "
      ]
     },
     "execution_count": 9,
     "metadata": {},
     "output_type": "execute_result"
    }
   ],
   "source": [
    "df_string.head(1)\n"
   ]
  },
  {
   "cell_type": "markdown",
   "metadata": {},
   "source": [
    "Plot findings"
   ]
  },
  {
   "cell_type": "code",
   "execution_count": 10,
   "metadata": {},
   "outputs": [],
   "source": [
    "import matplotlib.pyplot as plt\n"
   ]
  },
  {
   "cell_type": "code",
   "execution_count": 11,
   "metadata": {},
   "outputs": [],
   "source": [
    "# Split data by fraudulent/nonfraudulent\n",
    "df0 = df_string[df_string['fraudulent'] == 0]\n",
    "df1 = df_string[df_string['fraudulent'] == 1]\n"
   ]
  },
  {
   "cell_type": "code",
   "execution_count": 15,
   "metadata": {},
   "outputs": [],
   "source": [
    "def dist_plots(df0, df1, col):\n",
    "\n",
    "    fig, ax = plt.subplots(1, 2, figsize=(14, 4))\n",
    "\n",
    "    dist0 = scaler(df0[col]).values\n",
    "    dist1 = scaler(df1[col]).values\n",
    "    # We can set the number of bins with the *bins* keyword argument.\n",
    "    ax[0].hist(dist0, bins=100)\n",
    "    ax[0].set_xlim([min(dist0), max(dist0)])\n",
    "    ax[1].hist(dist1, bins=100, color='orange')\n",
    "    ax[1].set_xlim([min(dist0), max(dist0)])\n",
    "\n",
    "    plt.show()\n"
   ]
  },
  {
   "cell_type": "code",
   "execution_count": 16,
   "metadata": {},
   "outputs": [],
   "source": [
    "def scaler(col):\n",
    "    mean = np.mean(col.values)\n",
    "    std = np.std(col.values)\n",
    "    col = (col-mean)/std\n",
    "    return col\n"
   ]
  },
  {
   "cell_type": "code",
   "execution_count": 17,
   "metadata": {},
   "outputs": [
    {
     "data": {
      "image/png": "[encoded data removed]",
      "text/plain": [
       "<Figure size 1008x288 with 2 Axes>"
      ]
     },
     "metadata": {
      "needs_background": "light"
     },
     "output_type": "display_data"
    }
   ],
   "source": [
    "dist_plots(df0, df1, 'title#')\n"
   ]
  },
  {
   "cell_type": "code",
   "execution_count": 18,
   "metadata": {},
   "outputs": [
    {
     "data": {
      "image/png": "[encoded data removed]",
      "text/plain": [
       "<Figure size 1008x288 with 2 Axes>"
      ]
     },
     "metadata": {
      "needs_background": "light"
     },
     "output_type": "display_data"
    }
   ],
   "source": [
    "dist_plots(df0, df1, 'company_profile#')\n"
   ]
  },
  {
   "cell_type": "code",
   "execution_count": 19,
   "metadata": {},
   "outputs": [
    {
     "data": {
      "image/png": "[encoded data removed]",
      "text/plain": [
       "<Figure size 1008x288 with 2 Axes>"
      ]
     },
     "metadata": {
      "needs_background": "light"
     },
     "output_type": "display_data"
    }
   ],
   "source": [
    "dist_plots(df0, df1, 'description#')\n"
   ]
  },
  {
   "cell_type": "code",
   "execution_count": 20,
   "metadata": {},
   "outputs": [
    {
     "data": {
      "image/png": "[encoded data removed]",
      "text/plain": [
       "<Figure size 1008x288 with 2 Axes>"
      ]
     },
     "metadata": {
      "needs_background": "light"
     },
     "output_type": "display_data"
    }
   ],
   "source": [
    "dist_plots(df0, df1, 'requirements#')\n"
   ]
  },
  {
   "cell_type": "code",
   "execution_count": 21,
   "metadata": {},
   "outputs": [
    {
     "data": {
      "image/png": "[encoded data removed]",
      "text/plain": [
       "<Figure size 1008x288 with 2 Axes>"
      ]
     },
     "metadata": {
      "needs_background": "light"
     },
     "output_type": "display_data"
    }
   ],
   "source": [
    "dist_plots(df0, df1, 'benefits#')\n"
   ]
  },
  {
   "cell_type": "code",
   "execution_count": 22,
   "metadata": {},
   "outputs": [
    {
     "name": "stderr",
     "output_type": "stream",
     "text": [
      "C:\\Users\\pl3os\\AppData\\Local\\Temp/ipykernel_6792/752545217.py:4: SettingWithCopyWarning: \n",
      "A value is trying to be set on a copy of a slice from a DataFrame.\n",
      "Try using .loc[row_indexer,col_indexer] = value instead\n",
      "\n",
      "See the caveats in the documentation: https://pandas.pydata.org/pandas-docs/stable/user_guide/indexing.html#returning-a-view-versus-a-copy\n",
      "  df_string_train[col] = scaler(df_string_train[col])\n"
     ]
    }
   ],
   "source": [
    "df_string_train = df_string[[\n",
    "    'title#', 'company_profile#', 'description#', 'requirements#', 'benefits#']]\n",
    "for col in df_string_train.columns:\n",
    "    df_string_train[col] = scaler(df_string_train[col])\n"
   ]
  },
  {
   "cell_type": "code",
   "execution_count": 23,
   "metadata": {},
   "outputs": [
    {
     "data": {
      "text/plain": [
       "<AxesSubplot:>"
      ]
     },
     "execution_count": 23,
     "metadata": {},
     "output_type": "execute_result"
    },
    {
     "data": {
      "image/png": "[encoded data removed]",
      "text/plain": [
       "<Figure size 432x288 with 2 Axes>"
      ]
     },
     "metadata": {
      "needs_background": "light"
     },
     "output_type": "display_data"
    }
   ],
   "source": [
    "import seaborn as sns\n",
    "\n",
    "df_num = df_string.drop(['title', 'company_profile',\n",
    "                        'description', 'requirements', 'benefits'], axis=1)\n",
    "sns.heatmap(df_num.corr())\n"
   ]
  },
  {
   "cell_type": "code",
   "execution_count": 24,
   "metadata": {},
   "outputs": [
    {
     "data": {
      "text/html": [
       "<div>\n",
       "<style scoped>\n",
       "    .dataframe tbody tr th:only-of-type {\n",
       "        vertical-align: middle;\n",
       "    }\n",
       "\n",
       "    .dataframe tbody tr th {\n",
       "        vertical-align: top;\n",
       "    }\n",
       "\n",
       "    .dataframe thead th {\n",
       "        text-align: right;\n",
       "    }\n",
       "</style>\n",
       "<table border=\"1\" class=\"dataframe\">\n",
       "  <thead>\n",
       "    <tr style=\"text-align: right;\">\n",
       "      <th></th>\n",
       "      <th>fraudulent</th>\n",
       "      <th>title#</th>\n",
       "      <th>company_profile#</th>\n",
       "      <th>description#</th>\n",
       "      <th>requirements#</th>\n",
       "      <th>benefits#</th>\n",
       "    </tr>\n",
       "  </thead>\n",
       "  <tbody>\n",
       "    <tr>\n",
       "      <th>fraudulent</th>\n",
       "      <td>1.000000</td>\n",
       "      <td>0.038281</td>\n",
       "      <td>-0.150589</td>\n",
       "      <td>-0.002633</td>\n",
       "      <td>-0.053315</td>\n",
       "      <td>0.006261</td>\n",
       "    </tr>\n",
       "    <tr>\n",
       "      <th>title#</th>\n",
       "      <td>0.038281</td>\n",
       "      <td>1.000000</td>\n",
       "      <td>-0.006266</td>\n",
       "      <td>-0.018741</td>\n",
       "      <td>-0.004759</td>\n",
       "      <td>-0.030186</td>\n",
       "    </tr>\n",
       "    <tr>\n",
       "      <th>company_profile#</th>\n",
       "      <td>-0.150589</td>\n",
       "      <td>-0.006266</td>\n",
       "      <td>1.000000</td>\n",
       "      <td>0.116309</td>\n",
       "      <td>0.193000</td>\n",
       "      <td>0.168658</td>\n",
       "    </tr>\n",
       "    <tr>\n",
       "      <th>description#</th>\n",
       "      <td>-0.002633</td>\n",
       "      <td>-0.018741</td>\n",
       "      <td>0.116309</td>\n",
       "      <td>1.000000</td>\n",
       "      <td>0.088753</td>\n",
       "      <td>0.076724</td>\n",
       "    </tr>\n",
       "    <tr>\n",
       "      <th>requirements#</th>\n",
       "      <td>-0.053315</td>\n",
       "      <td>-0.004759</td>\n",
       "      <td>0.193000</td>\n",
       "      <td>0.088753</td>\n",
       "      <td>1.000000</td>\n",
       "      <td>0.150469</td>\n",
       "    </tr>\n",
       "    <tr>\n",
       "      <th>benefits#</th>\n",
       "      <td>0.006261</td>\n",
       "      <td>-0.030186</td>\n",
       "      <td>0.168658</td>\n",
       "      <td>0.076724</td>\n",
       "      <td>0.150469</td>\n",
       "      <td>1.000000</td>\n",
       "    </tr>\n",
       "  </tbody>\n",
       "</table>\n",
       "</div>"
      ],
      "text/plain": [
       "                  fraudulent    title#  company_profile#  description#  \\\n",
       "fraudulent          1.000000  0.038281         -0.150589     -0.002633   \n",
       "title#              0.038281  1.000000         -0.006266     -0.018741   \n",
       "company_profile#   -0.150589 -0.006266          1.000000      0.116309   \n",
       "description#       -0.002633 -0.018741          0.116309      1.000000   \n",
       "requirements#      -0.053315 -0.004759          0.193000      0.088753   \n",
       "benefits#           0.006261 -0.030186          0.168658      0.076724   \n",
       "\n",
       "                  requirements#  benefits#  \n",
       "fraudulent            -0.053315   0.006261  \n",
       "title#                -0.004759  -0.030186  \n",
       "company_profile#       0.193000   0.168658  \n",
       "description#           0.088753   0.076724  \n",
       "requirements#          1.000000   0.150469  \n",
       "benefits#              0.150469   1.000000  "
      ]
     },
     "execution_count": 24,
     "metadata": {},
     "output_type": "execute_result"
    }
   ],
   "source": [
    "df_num.corr()\n"
   ]
  },
  {
   "cell_type": "markdown",
   "metadata": {},
   "source": [
    "Preprocess only the features with large non-zero correlation scores with the fraudulent feature."
   ]
  },
  {
   "cell_type": "code",
   "execution_count": 25,
   "metadata": {},
   "outputs": [
    {
     "data": {
      "text/html": [
       "<div>\n",
       "<style scoped>\n",
       "    .dataframe tbody tr th:only-of-type {\n",
       "        vertical-align: middle;\n",
       "    }\n",
       "\n",
       "    .dataframe tbody tr th {\n",
       "        vertical-align: top;\n",
       "    }\n",
       "\n",
       "    .dataframe thead th {\n",
       "        text-align: right;\n",
       "    }\n",
       "</style>\n",
       "<table border=\"1\" class=\"dataframe\">\n",
       "  <thead>\n",
       "    <tr style=\"text-align: right;\">\n",
       "      <th></th>\n",
       "      <th>title#</th>\n",
       "      <th>company_profile#</th>\n",
       "      <th>description#</th>\n",
       "      <th>requirements#</th>\n",
       "      <th>benefits#</th>\n",
       "    </tr>\n",
       "  </thead>\n",
       "  <tbody>\n",
       "    <tr>\n",
       "      <th>0</th>\n",
       "      <td>1.745109</td>\n",
       "      <td>-1.102219</td>\n",
       "      <td>-0.176980</td>\n",
       "      <td>-0.594759</td>\n",
       "      <td>-0.623779</td>\n",
       "    </tr>\n",
       "    <tr>\n",
       "      <th>1</th>\n",
       "      <td>-0.402323</td>\n",
       "      <td>-1.007750</td>\n",
       "      <td>-0.944313</td>\n",
       "      <td>-0.746242</td>\n",
       "      <td>-0.566310</td>\n",
       "    </tr>\n",
       "    <tr>\n",
       "      <th>2</th>\n",
       "      <td>2.460920</td>\n",
       "      <td>0.133015</td>\n",
       "      <td>0.908103</td>\n",
       "      <td>2.307579</td>\n",
       "      <td>-0.517914</td>\n",
       "    </tr>\n",
       "    <tr>\n",
       "      <th>3</th>\n",
       "      <td>-0.044418</td>\n",
       "      <td>0.134798</td>\n",
       "      <td>1.180782</td>\n",
       "      <td>0.341531</td>\n",
       "      <td>-0.040010</td>\n",
       "    </tr>\n",
       "    <tr>\n",
       "      <th>4</th>\n",
       "      <td>-0.115999</td>\n",
       "      <td>-1.102219</td>\n",
       "      <td>-0.918397</td>\n",
       "      <td>0.415661</td>\n",
       "      <td>-0.548161</td>\n",
       "    </tr>\n",
       "  </tbody>\n",
       "</table>\n",
       "</div>"
      ],
      "text/plain": [
       "     title#  company_profile#  description#  requirements#  benefits#\n",
       "0  1.745109         -1.102219     -0.176980      -0.594759  -0.623779\n",
       "1 -0.402323         -1.007750     -0.944313      -0.746242  -0.566310\n",
       "2  2.460920          0.133015      0.908103       2.307579  -0.517914\n",
       "3 -0.044418          0.134798      1.180782       0.341531  -0.040010\n",
       "4 -0.115999         -1.102219     -0.918397       0.415661  -0.548161"
      ]
     },
     "execution_count": 25,
     "metadata": {},
     "output_type": "execute_result"
    }
   ],
   "source": [
    "# Preprocessing Data\n",
    "df_train = df_num.drop(['fraudulent'], axis=1)\n",
    "for col in df_train.columns:\n",
    "    df_train[col] = scaler(df_train[col])\n",
    "df_train.head()\n"
   ]
  },
  {
   "cell_type": "code",
   "execution_count": 26,
   "metadata": {},
   "outputs": [
    {
     "data": {
      "text/html": [
       "<div>\n",
       "<style scoped>\n",
       "    .dataframe tbody tr th:only-of-type {\n",
       "        vertical-align: middle;\n",
       "    }\n",
       "\n",
       "    .dataframe tbody tr th {\n",
       "        vertical-align: top;\n",
       "    }\n",
       "\n",
       "    .dataframe thead th {\n",
       "        text-align: right;\n",
       "    }\n",
       "</style>\n",
       "<table border=\"1\" class=\"dataframe\">\n",
       "  <thead>\n",
       "    <tr style=\"text-align: right;\">\n",
       "      <th></th>\n",
       "      <th>title#</th>\n",
       "      <th>company_profile#</th>\n",
       "      <th>description#</th>\n",
       "      <th>requirements#</th>\n",
       "      <th>benefits#</th>\n",
       "    </tr>\n",
       "  </thead>\n",
       "  <tbody>\n",
       "    <tr>\n",
       "      <th>0</th>\n",
       "      <td>0.554323</td>\n",
       "      <td>-1.082840</td>\n",
       "      <td>-0.858389</td>\n",
       "      <td>-0.705602</td>\n",
       "      <td>-0.383558</td>\n",
       "    </tr>\n",
       "    <tr>\n",
       "      <th>1</th>\n",
       "      <td>-0.028791</td>\n",
       "      <td>0.284813</td>\n",
       "      <td>0.516297</td>\n",
       "      <td>-0.584327</td>\n",
       "      <td>0.121507</td>\n",
       "    </tr>\n",
       "    <tr>\n",
       "      <th>2</th>\n",
       "      <td>-0.903461</td>\n",
       "      <td>0.664427</td>\n",
       "      <td>-0.134056</td>\n",
       "      <td>-0.647456</td>\n",
       "      <td>-0.614445</td>\n",
       "    </tr>\n",
       "    <tr>\n",
       "      <th>3</th>\n",
       "      <td>-0.174569</td>\n",
       "      <td>0.102806</td>\n",
       "      <td>-0.416723</td>\n",
       "      <td>-0.197244</td>\n",
       "      <td>-0.614445</td>\n",
       "    </tr>\n",
       "    <tr>\n",
       "      <th>4</th>\n",
       "      <td>0.189877</td>\n",
       "      <td>-0.086135</td>\n",
       "      <td>-1.157618</td>\n",
       "      <td>-0.454745</td>\n",
       "      <td>-0.614445</td>\n",
       "    </tr>\n",
       "  </tbody>\n",
       "</table>\n",
       "</div>"
      ],
      "text/plain": [
       "     title#  company_profile#  description#  requirements#  benefits#\n",
       "0  0.554323         -1.082840     -0.858389      -0.705602  -0.383558\n",
       "1 -0.028791          0.284813      0.516297      -0.584327   0.121507\n",
       "2 -0.903461          0.664427     -0.134056      -0.647456  -0.614445\n",
       "3 -0.174569          0.102806     -0.416723      -0.197244  -0.614445\n",
       "4  0.189877         -0.086135     -1.157618      -0.454745  -0.614445"
      ]
     },
     "execution_count": 26,
     "metadata": {},
     "output_type": "execute_result"
    }
   ],
   "source": [
    "df_test = pd.read_csv('inclassfakejobs/test.csv')\n",
    "df_test = df_test[['title', 'company_profile',\n",
    "                   'description', 'requirements', 'benefits']]\n",
    "columns = df_test.columns\n",
    "df_test = df_test.fillna('')\n",
    "for col in columns:\n",
    "    string_len = []\n",
    "    for i, string in enumerate(df_test[col].values):\n",
    "        string_len.append(len(str(string)))\n",
    "    df_test[f'{col}#'] = string_len\n",
    "    df_test[f'{col}#'] = scaler(df_test[f'{col}#'])\n",
    "df_test = df_test.drop(columns, axis=1)\n",
    "df_test.head()\n"
   ]
  },
  {
   "cell_type": "code",
   "execution_count": 27,
   "metadata": {},
   "outputs": [],
   "source": [
    "df_train.to_csv('peter_train1.csv')\n",
    "df_test.to_csv('peter_test1.csv')\n"
   ]
  },
  {
   "cell_type": "code",
   "execution_count": null,
   "metadata": {},
   "outputs": [],
   "source": []
  }
 ],
 "metadata": {
  "kernelspec": {
   "display_name": "Python 3.10.1 64-bit",
   "language": "python",
   "name": "python3"
  },
  "language_info": {
   "codemirror_mode": {
    "name": "ipython",
    "version": 3
   },
   "file_extension": ".py",
   "mimetype": "text/x-python",
   "name": "python",
   "nbconvert_exporter": "python",
   "pygments_lexer": "ipython3",
   "version": "3.10.1"
  },
  "orig_nbformat": 4,
  "vscode": {
   "interpreter": {
    "hash": "369f2c481f4da34e4445cda3fffd2e751bd1c4d706f27375911949ba6bb62e1c"
   }
  }
 },
 "nbformat": 4,
 "nbformat_minor": 2
}
